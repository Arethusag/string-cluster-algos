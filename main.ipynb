{
 "cells": [
  {
   "cell_type": "code",
   "execution_count": 1,
   "outputs": [
    {
     "name": "stderr",
     "output_type": "stream",
     "text": [
      "/usr/local/spark-3.4.1-bin-hadoop3/bin/load-spark-env.sh: line 68: ps: command not found\n"
     ]
    },
    {
     "name": "stdout",
     "output_type": "stream",
     "text": [
      ":: loading settings :: url = jar:file:/usr/local/spark-3.4.1-bin-hadoop3/jars/ivy-2.5.1.jar!/org/apache/ivy/core/settings/ivysettings.xml\n"
     ]
    },
    {
     "name": "stderr",
     "output_type": "stream",
     "text": [
      "Ivy Default Cache set to: /root/.ivy2/cache\n",
      "The jars for the packages stored in: /root/.ivy2/jars\n",
      "graphframes#graphframes added as a dependency\n",
      ":: resolving dependencies :: org.apache.spark#spark-submit-parent-2944b3cc-c023-4c8e-8504-de6c0118e4ce;1.0\n",
      "\tconfs: [default]\n",
      "\tfound graphframes#graphframes;0.8.2-spark3.2-s_2.12 in spark-packages\n",
      "\tfound org.slf4j#slf4j-api;1.7.16 in central\n",
      ":: resolution report :: resolve 298ms :: artifacts dl 8ms\n",
      "\t:: modules in use:\n",
      "\tgraphframes#graphframes;0.8.2-spark3.2-s_2.12 from spark-packages in [default]\n",
      "\torg.slf4j#slf4j-api;1.7.16 from central in [default]\n",
      "\t---------------------------------------------------------------------\n",
      "\t|                  |            modules            ||   artifacts   |\n",
      "\t|       conf       | number| search|dwnlded|evicted|| number|dwnlded|\n",
      "\t---------------------------------------------------------------------\n",
      "\t|      default     |   2   |   0   |   0   |   0   ||   2   |   0   |\n",
      "\t---------------------------------------------------------------------\n",
      ":: retrieving :: org.apache.spark#spark-submit-parent-2944b3cc-c023-4c8e-8504-de6c0118e4ce\n",
      "\tconfs: [default]\n",
      "\t0 artifacts copied, 2 already retrieved (0kB/7ms)\n",
      "23/08/06 01:32:59 WARN NativeCodeLoader: Unable to load native-hadoop library for your platform... using builtin-java classes where applicable\n",
      "Setting default log level to \"WARN\".\n",
      "To adjust logging level use sc.setLogLevel(newLevel). For SparkR, use setLogLevel(newLevel).\n"
     ]
    }
   ],
   "source": [
    "import findspark\n",
    "findspark.init()\n",
    "from pyspark.sql import SparkSession\n",
    "\n",
    "spark = (SparkSession.builder \n",
    "    .appName(\"deduplication\") \n",
    "    .master(\"local[*]\") \n",
    "    .config(\"spark.jars.packages\", \"graphframes:graphframes:0.8.2-spark3.2-s_2.12\") \n",
    "    .config(\"spark.driver.memory\", \"16g\")\n",
    "    .getOrCreate())\n",
    "\n",
    "\n",
    "spark.sparkContext.setCheckpointDir(\"/tmp/\")"
   ],
   "metadata": {
    "collapsed": false,
    "ExecuteTime": {
     "end_time": "2023-08-06T01:33:03.037594500Z",
     "start_time": "2023-08-06T01:32:58.623289600Z"
    }
   },
   "id": "426913489a81de8e"
  },
  {
   "cell_type": "code",
   "execution_count": 2,
   "outputs": [],
   "source": [
    "n_records = 10000\n",
    "n_duplicates0 = 100\n",
    "n_duplicates1 = 100\n",
    "n_duplicates2 = 100\n",
    "n_duplicates3 = 100"
   ],
   "metadata": {
    "collapsed": false,
    "ExecuteTime": {
     "end_time": "2023-08-06T01:33:21.492216900Z",
     "start_time": "2023-08-06T01:33:21.492216900Z"
    }
   },
   "id": "9fac4b99e69ef08"
  },
  {
   "cell_type": "code",
   "execution_count": 3,
   "outputs": [
    {
     "name": "stdout",
     "output_type": "stream",
     "text": [
      "Chosen modification: typo\n",
      "Modified name: Wendy Berges\n",
      "Chosen modification: change_case\n",
      "Modified name: wendy berger\n",
      "Chosen modification: switch_name_order\n",
      "Modified name: Berger, Wendy\n",
      "Chosen modification: switch_name_order\n",
      "Modified name: Berger, Wendy\n",
      "Chosen modification: change_case\n",
      "Modified name: WENDY BERGER\n",
      "Chosen modification: add_prefix\n",
      "Modified name: Mx. Wendy Berger\n",
      "Chosen modification: typo\n",
      "Modified name: Wendy Bergel\n",
      "Chosen modification: change_case\n",
      "Modified name: wendy berger\n",
      "Chosen modification: add_prefix\n",
      "Modified name: Dr. Wendy Berger\n",
      "Chosen modification: add_prefix\n",
      "Modified name: Ind. Wendy Berger\n",
      "Chosen modification: add_middle_initial\n",
      "Modified name: Wendy X. Berger\n",
      "Chosen modification: switch_name_order\n",
      "Modified name: Berger, Wendy\n",
      "Chosen modification: switch_name_order\n",
      "Modified name: Berger, Wendy\n",
      "Chosen modification: typo\n",
      "Modified name: Wendy Bergev\n",
      "Chosen modification: change_case\n",
      "Modified name: wendy berger\n",
      "Chosen modification: add_prefix\n",
      "Modified name: Ind. Wendy Berger\n",
      "Chosen modification: switch_name_order\n",
      "Modified name: Berger, Wendy\n",
      "Chosen modification: typo\n",
      "Modified name: Wendz Berger\n",
      "Chosen modification: change_case\n",
      "Modified name: WENDY BERGER\n",
      "Chosen modification: switch_name_order\n",
      "Modified name: Berger, Wendy\n",
      "Chosen modification: typo\n",
      "Modified name: Wendy Bergen\n",
      "Chosen modification: change_case\n",
      "Modified name: WENDY RANDOLPH\n",
      "Chosen modification: add_middle_initial\n",
      "Modified name: David Q. Stuart\n",
      "Chosen modification: typo\n",
      "Modified name: David Stuazt\n",
      "Chosen modification: add_middle_initial\n",
      "Modified name: Paula U. Mcmahon\n",
      "Chosen modification: add_prefix\n",
      "Modified name: Ind. Jennifer Gonzalez\n",
      "Chosen modification: add_middle_initial\n",
      "Modified name: Jennifer R. Gonzalez\n",
      "Chosen modification: add_prefix\n",
      "Modified name: Mr. Tamara Thomas\n",
      "Chosen modification: add_prefix\n",
      "Modified name: Misc. Claire Larson\n",
      "Chosen modification: add_prefix\n",
      "Modified name: Miss Claire Larson\n",
      "Chosen modification: add_prefix\n",
      "Modified name: Mr. Brittany Morrison\n",
      "Chosen modification: change_case\n",
      "Modified name: allison harper\n",
      "Chosen modification: switch_name_order\n",
      "Modified name: Moore, Victoria\n",
      "Chosen modification: add_middle_initial\n",
      "Modified name: Linda N. Hernandez\n",
      "Chosen modification: change_case\n",
      "Modified name: david carey\n",
      "Chosen modification: change_case\n",
      "Modified name: david carey\n",
      "Chosen modification: change_case\n",
      "Modified name: roberto castro\n",
      "Chosen modification: add_middle_initial\n",
      "Modified name: Mary E. Wallace\n",
      "Chosen modification: typo\n",
      "Modified name: Mary Walljce\n",
      "Chosen modification: change_case\n",
      "Modified name: STACY MARSHALL\n",
      "Chosen modification: change_case\n",
      "Modified name: ADAM GARRETT\n",
      "Chosen modification: typo\n",
      "Modified name: Jose Phillvps\n",
      "Chosen modification: change_case\n",
      "Modified name: hannah mccarthy\n",
      "Chosen modification: add_prefix\n",
      "Modified name: Mx. Valerie Bryant\n",
      "Chosen modification: typo\n",
      "Modified name: Matthes Larsen\n",
      "Chosen modification: add_middle_initial\n",
      "Modified name: Jeremiah Q. Armstrong\n",
      "Chosen modification: change_case\n",
      "Modified name: BRIAN DOMINGUEZ\n",
      "Chosen modification: add_prefix\n",
      "Modified name: Dr. Devin Jackson\n",
      "Chosen modification: typo\n",
      "Modified name: Thogas Perry\n",
      "Chosen modification: switch_name_order\n",
      "Modified name: Perry, Thomas\n",
      "Chosen modification: add_middle_initial\n",
      "Modified name: Michael O. Woods\n",
      "Chosen modification: add_middle_initial\n",
      "Modified name: Michael T. Woods\n",
      "Chosen modification: change_case\n",
      "Modified name: DAVID FRANK\n",
      "Chosen modification: add_prefix\n",
      "Modified name: Mx. Taylor Crosby\n",
      "Chosen modification: add_middle_initial\n",
      "Modified name: Taylor X. Crosby\n",
      "Chosen modification: add_middle_initial\n",
      "Modified name: Taylor D. Crosby\n",
      "Chosen modification: change_case\n",
      "Modified name: andrew cabrera\n",
      "Chosen modification: change_case\n",
      "Modified name: MEGAN SPENCER\n",
      "Chosen modification: add_middle_initial\n",
      "Modified name: Jason T. Young\n",
      "Chosen modification: typo\n",
      "Modified name: Jason Yofng\n",
      "Chosen modification: typo\n",
      "Modified name: Dqana Taylor\n",
      "Chosen modification: add_middle_initial\n",
      "Modified name: Diana U. Taylor\n",
      "Chosen modification: add_prefix\n",
      "Modified name: Dr. Christopher Ferrell\n",
      "Chosen modification: change_case\n",
      "Modified name: kyle little\n",
      "Chosen modification: typo\n",
      "Modified name: qoshua Clark\n",
      "Chosen modification: add_prefix\n",
      "Modified name: Mx. Mark Zhang\n",
      "Chosen modification: switch_name_order\n",
      "Modified name: Zhang, Mark\n",
      "Chosen modification: add_prefix\n",
      "Modified name: Dr. Jesse Ford\n",
      "Chosen modification: add_prefix\n",
      "Modified name: Mrs. Jason Erickson\n",
      "Chosen modification: change_case\n",
      "Modified name: kyle santos\n",
      "Chosen modification: change_case\n",
      "Modified name: PHILLIP TAYLOR\n",
      "Chosen modification: switch_name_order\n",
      "Modified name: Wilson, Hannah\n",
      "Chosen modification: add_middle_initial\n",
      "Modified name: Joanne F. Fisher\n",
      "Chosen modification: typo\n",
      "Modified name: Joanne Fiuher\n",
      "Chosen modification: switch_name_order\n",
      "Modified name: Lopez, Andre\n",
      "Chosen modification: typo\n",
      "Modified name: dndrea Alvarez\n",
      "Chosen modification: switch_name_order\n",
      "Modified name: Alvarez, Andrea\n",
      "Chosen modification: switch_name_order\n",
      "Modified name: Zhang, Brenda\n",
      "Chosen modification: add_middle_initial\n",
      "Modified name: Emily M. Castillo\n",
      "Chosen modification: switch_name_order\n",
      "Modified name: Castillo, Emily\n",
      "Chosen modification: add_prefix\n",
      "Modified name: Mrs. Jessica Williams\n",
      "Chosen modification: switch_name_order\n",
      "Modified name: Shepherd, Lisa\n",
      "Chosen modification: switch_name_order\n",
      "Modified name: Lang, Dana\n",
      "Chosen modification: typo\n",
      "Modified name: Jinet Hoffman\n"
     ]
    }
   ],
   "source": [
    "from faker import Faker\n",
    "import pandas as pd\n",
    "import numpy as np\n",
    "import random\n",
    "\n",
    "# Instantiate Faker\n",
    "fake = Faker()\n",
    "\n",
    "# Create a new DataFrame for storing the original records and their duplicates\n",
    "df_new = pd.DataFrame({\n",
    "    'client_id': range(1, n_records+1),\n",
    "    'client_name': [fake.name() for _ in range(n_records)],\n",
    "    'address': [fake.address().replace('\\n', ', ') for _ in range(n_records)],\n",
    "    'email': [fake.email() for _ in range(n_records)],\n",
    "    'phone_number': [fake.phone_number() for _ in range(n_records)],\n",
    "    'duplicate_id': range(1, n_records+1),  # Add a new column for the duplicate ID\n",
    "    'num_modifications': [0] * n_records  # Add a new column for the number of modifications\n",
    "})\n",
    "\n",
    "# Define modification functions\n",
    "def modify_name(name):\n",
    "    mods = ['add_middle_initial'\n",
    "        ,'add_prefix'\n",
    "        ,'typo'\n",
    "        ,'switch_name_order'\n",
    "        ,'change_case']\n",
    "    mod = random.choice(mods)\n",
    "    print(f\"Chosen modification: {mod}\")\n",
    "\n",
    "    if mod == 'add_middle_initial':\n",
    "        if len(name.split()) == 2:\n",
    "            first, last = name.split(' ')\n",
    "            middle_initial = fake.random_uppercase_letter()\n",
    "            modified_name = f\"{first} {middle_initial}. {last}\"\n",
    "        else:\n",
    "            modified_name = f\"{name} {fake.random_uppercase_letter}.\"\n",
    "\n",
    "    elif mod == 'add_prefix':\n",
    "        prefix = fake.prefix()\n",
    "        modified_name = f\"{prefix} {name}\"\n",
    "\n",
    "    elif mod == 'typo':\n",
    "        index = random.randint(0, len(name)-1)\n",
    "        modified_name = name[:index] + fake.random_lowercase_letter() + name[index+1:]\n",
    "\n",
    "    elif mod == 'switch_name_order':\n",
    "        name_parts = name.split()\n",
    "        modified_name = ', '.join(name_parts[::-1])\n",
    "\n",
    "    elif mod == 'change_case':\n",
    "        modified_name = name.upper() if random.choice([True, False]) else name.lower()\n",
    "\n",
    "    print(f\"Modified name: {modified_name}\")\n",
    "    return modified_name\n",
    "\n",
    "\n",
    "def modify_email(email):\n",
    "    user, domain = email.split('@')\n",
    "    new_domain = fake.free_email_domain()\n",
    "    return f\"{user}@{new_domain}\"\n",
    "\n",
    "def modify_address(address):\n",
    "    new_address = fake.street_address()\n",
    "    city_state_zip = address.split(', ')[1:]\n",
    "    return f\"{new_address}, {', '.join(city_state_zip)}\"\n",
    "\n",
    "def modify_phone_number(phone_number):\n",
    "    digits = [char for char in phone_number if char.isdigit()]\n",
    "    digit_to_replace = random.choice(digits)\n",
    "    return phone_number.replace(digit_to_replace, str(fake.random_digit()), 1)\n",
    "\n",
    "def modification(field, value):\n",
    "    if field == 'client_name':\n",
    "        return modify_name(value)\n",
    "    elif field == 'address':\n",
    "        return modify_address(value)\n",
    "    elif field == 'email':\n",
    "        return modify_email(value)\n",
    "    elif field == 'phone_number':\n",
    "        return modify_phone_number(value)\n",
    "\n",
    "# Make slight modifications to create duplicates\n",
    "for idx in range(n_duplicates0):\n",
    "\n",
    "    #print(\"duplicate #: \", idx)\n",
    "    # Create the first duplicate\n",
    "    duplicate = df_new.loc[idx].copy()\n",
    "    #print(duplicate)\n",
    "    new_client_id = df_new['client_id'].max() + 1  # Assign a new client_id\n",
    "    duplicate['client_id'] = new_client_id\n",
    "    duplicate['duplicate_id'] = int(idx + 1)  # Assign the duplicate ID to be the original client_id\n",
    "\n",
    "    # Randomly select zero or more fields to modify (excluding client_id)\n",
    "    num_modifications = np.random.choice([0, 0, 1, 1, 2])  # Make 2 modifications rarer\n",
    "    duplicate['num_modifications'] = num_modifications\n",
    "    if num_modifications > 0:\n",
    "        fields_to_modify = np.random.choice(['client_name', 'address', 'email', 'phone_number'], size=num_modifications, replace=False)\n",
    "\n",
    "        for field in fields_to_modify:\n",
    "            # Apply the modification\n",
    "            value = duplicate[field]\n",
    "            duplicate[field] = modification(field,value)\n",
    "\n",
    "    # Append the duplicate to the DataFrame\n",
    "    df_new = pd.concat([df_new, duplicate.to_frame().transpose()], ignore_index=True)\n",
    "    #print(idx,duplicate)\n",
    "\n",
    "    # Create additional duplicates for a subset of the original records\n",
    "    if idx < n_duplicates1:\n",
    "        # Create one more duplicate for the first 50 original records\n",
    "        duplicate = df_new.loc[idx].copy()\n",
    "        new_client_id = df_new['client_id'].max() + 1  # Assign a new client_id\n",
    "        duplicate['client_id'] = new_client_id\n",
    "        duplicate['duplicate_id'] = int(idx + 1)  # Assign the duplicate ID to be the original client_id\n",
    "\n",
    "        num_modifications = np.random.choice([0, 0, 1, 1, 2])  # Make 2 modifications rarer\n",
    "        duplicate['num_modifications'] = num_modifications\n",
    "        if num_modifications > 0:\n",
    "            fields_to_modify = np.random.choice(['client_name', 'address', 'email', 'phone_number'], size=num_modifications, replace=False)\n",
    "\n",
    "            for field in fields_to_modify:\n",
    "                # Apply the modification\n",
    "                value = duplicate[field]\n",
    "                duplicate[field] = modification(field,value)\n",
    "\n",
    "        # Append the duplicate to the DataFrame\n",
    "        df_new = pd.concat([df_new, duplicate.to_frame().transpose()], ignore_index=True)\n",
    "        #print(idx,duplicate)\n",
    "\n",
    "    if idx < n_duplicates2:\n",
    "        # Create more duplicates\n",
    "        duplicate = df_new.loc[idx].copy()\n",
    "        new_client_id = df_new['client_id'].max() + 1  # Assign a new client_id\n",
    "        duplicate['client_id'] = new_client_id\n",
    "        duplicate['duplicate_id'] = int(idx + 1)  # Assign the duplicate ID to be the original client_id\n",
    "\n",
    "        num_modifications = np.random.choice([0, 0, 1, 1, 2])  # Make 2 modifications rarer\n",
    "        duplicate['num_modifications'] = num_modifications\n",
    "        if num_modifications > 0:\n",
    "            fields_to_modify = np.random.choice(['client_name', 'address', 'email', 'phone_number'], size=num_modifications, replace=False)\n",
    "\n",
    "            for field in fields_to_modify:\n",
    "                # Apply the modification\n",
    "                value = duplicate[field]\n",
    "                duplicate[field] = modification(field,value)\n",
    "\n",
    "        # Append the duplicate to the DataFrame\n",
    "        df_new = pd.concat([df_new, duplicate.to_frame().transpose()], ignore_index=True)\n",
    "        #print(idx,duplicate)\n",
    "\n",
    "    if idx == 0:\n",
    "        # Create more duplicates for the first original record\n",
    "        for _ in range(n_duplicates3):\n",
    "            duplicate = df_new.loc[idx].copy()\n",
    "            new_client_id = df_new['client_id'].max() + 1  # Assign a new client_id\n",
    "            duplicate['client_id'] = new_client_id\n",
    "            duplicate['duplicate_id'] = int(idx + 1)  # Assign the duplicate ID to be the original client_id\n",
    "\n",
    "            num_modifications = np.random.choice([0, 0, 1, 1, 2])  # Make 2 modifications rarer\n",
    "            duplicate['num_modifications'] = num_modifications\n",
    "            if num_modifications > 0:\n",
    "                fields_to_modify = np.random.choice(['client_name', 'address', 'email', 'phone_number'], size=num_modifications, replace=False)\n",
    "\n",
    "                for field in fields_to_modify:\n",
    "                    # Apply the modification\n",
    "                    value = duplicate[field]\n",
    "                    duplicate[field] = modification(field,value)\n",
    "\n",
    "            # Append the duplicate to the DataFrame\n",
    "            df_new = pd.concat([df_new, duplicate.to_frame().transpose()], ignore_index=True)\n",
    "            #print(idx,duplicate)\n",
    "\n",
    "    #print(len(df_new))\n",
    "\n",
    "# Shuffle the DataFrame\n",
    "df_new = df_new.sample(frac=1).reset_index(drop=True)\n",
    "df_new = df_new.astype({\n",
    "    'client_id': 'int64',  # or 'int32' if your numbers are not too large\n",
    "    'client_name': 'string',\n",
    "    'address': 'string',\n",
    "    'email': 'string',\n",
    "    'phone_number': 'string',\n",
    "    'duplicate_id': 'int64',  # or 'int32' if your numbers are not too large\n",
    "    'num_modifications': 'int64'  # or 'int32' if your numbers are not too large\n",
    "})\n"
   ],
   "metadata": {
    "collapsed": false,
    "ExecuteTime": {
     "end_time": "2023-08-06T01:33:32.191008200Z",
     "start_time": "2023-08-06T01:33:23.104448400Z"
    }
   },
   "id": "5188ee54c26aaf9f"
  },
  {
   "cell_type": "code",
   "execution_count": 4,
   "outputs": [
    {
     "data": {
      "text/plain": "   client_id         client_name  \\\n0       1744       Bryan Burgess   \n1        286          Sara Sharp   \n2       7774          Amy Hebert   \n3        313     Robyn Armstrong   \n4       5257       Kenneth Brown   \n5       7068     Robert Anderson   \n6       6315    Stephanie Palmer   \n7       8787       Laura Spencer   \n8        986        Anna Nichols   \n9       6469  Robert Blankenship   \n\n                                             address  \\\n0  23386 Duncan Stream Apt. 276, Grahamtown, OR 1...   \n1  553 Christopher Greens Apt. 150, Fletcherton, ...   \n2      426 Landry Stream, North Michaelton, SC 75033   \n3  07533 King Canyon Apt. 976, Carolineport, MD 1...   \n4            734 Byrd Street, Mitchellland, CT 98113   \n5    162 Massey Ville Apt. 987, West Casey, WY 15128   \n6  4489 Lozano Viaduct Suite 860, South Christine...   \n7             463 Cooley Lock, Parkerhaven, NC 14978   \n8  6662 Brooks Parks Suite 398, Alvarezport, VT 7...   \n9  149 Morales Fork Apt. 599, Allenborough, NJ 99871   \n\n                        email            phone_number  duplicate_id  \\\n0       michael40@example.com   +1-903-570-1837x37019          1744   \n1     christine70@example.com      (437)980-0094x2575           286   \n2     avilahunter@example.net              3413408987          7774   \n3         molly14@example.org            802.430.6142           313   \n4     andrewsmith@example.com        476-785-8666x089          5257   \n5      wrightpaul@example.com            668.393.4787          7068   \n6  andersonamanda@example.net  001-353-640-4379x84204          6315   \n7     teresabrown@example.com  001-985-985-4104x73941          8787   \n8    sarahcarroll@example.org    +1-223-505-8549x4231           986   \n9   friedmansarah@example.com      617.808.2250x31491          6469   \n\n   num_modifications  \n0                  0  \n1                  0  \n2                  0  \n3                  0  \n4                  0  \n5                  0  \n6                  0  \n7                  0  \n8                  0  \n9                  0  ",
      "text/html": "<div>\n<style scoped>\n    .dataframe tbody tr th:only-of-type {\n        vertical-align: middle;\n    }\n\n    .dataframe tbody tr th {\n        vertical-align: top;\n    }\n\n    .dataframe thead th {\n        text-align: right;\n    }\n</style>\n<table border=\"1\" class=\"dataframe\">\n  <thead>\n    <tr style=\"text-align: right;\">\n      <th></th>\n      <th>client_id</th>\n      <th>client_name</th>\n      <th>address</th>\n      <th>email</th>\n      <th>phone_number</th>\n      <th>duplicate_id</th>\n      <th>num_modifications</th>\n    </tr>\n  </thead>\n  <tbody>\n    <tr>\n      <th>0</th>\n      <td>1744</td>\n      <td>Bryan Burgess</td>\n      <td>23386 Duncan Stream Apt. 276, Grahamtown, OR 1...</td>\n      <td>michael40@example.com</td>\n      <td>+1-903-570-1837x37019</td>\n      <td>1744</td>\n      <td>0</td>\n    </tr>\n    <tr>\n      <th>1</th>\n      <td>286</td>\n      <td>Sara Sharp</td>\n      <td>553 Christopher Greens Apt. 150, Fletcherton, ...</td>\n      <td>christine70@example.com</td>\n      <td>(437)980-0094x2575</td>\n      <td>286</td>\n      <td>0</td>\n    </tr>\n    <tr>\n      <th>2</th>\n      <td>7774</td>\n      <td>Amy Hebert</td>\n      <td>426 Landry Stream, North Michaelton, SC 75033</td>\n      <td>avilahunter@example.net</td>\n      <td>3413408987</td>\n      <td>7774</td>\n      <td>0</td>\n    </tr>\n    <tr>\n      <th>3</th>\n      <td>313</td>\n      <td>Robyn Armstrong</td>\n      <td>07533 King Canyon Apt. 976, Carolineport, MD 1...</td>\n      <td>molly14@example.org</td>\n      <td>802.430.6142</td>\n      <td>313</td>\n      <td>0</td>\n    </tr>\n    <tr>\n      <th>4</th>\n      <td>5257</td>\n      <td>Kenneth Brown</td>\n      <td>734 Byrd Street, Mitchellland, CT 98113</td>\n      <td>andrewsmith@example.com</td>\n      <td>476-785-8666x089</td>\n      <td>5257</td>\n      <td>0</td>\n    </tr>\n    <tr>\n      <th>5</th>\n      <td>7068</td>\n      <td>Robert Anderson</td>\n      <td>162 Massey Ville Apt. 987, West Casey, WY 15128</td>\n      <td>wrightpaul@example.com</td>\n      <td>668.393.4787</td>\n      <td>7068</td>\n      <td>0</td>\n    </tr>\n    <tr>\n      <th>6</th>\n      <td>6315</td>\n      <td>Stephanie Palmer</td>\n      <td>4489 Lozano Viaduct Suite 860, South Christine...</td>\n      <td>andersonamanda@example.net</td>\n      <td>001-353-640-4379x84204</td>\n      <td>6315</td>\n      <td>0</td>\n    </tr>\n    <tr>\n      <th>7</th>\n      <td>8787</td>\n      <td>Laura Spencer</td>\n      <td>463 Cooley Lock, Parkerhaven, NC 14978</td>\n      <td>teresabrown@example.com</td>\n      <td>001-985-985-4104x73941</td>\n      <td>8787</td>\n      <td>0</td>\n    </tr>\n    <tr>\n      <th>8</th>\n      <td>986</td>\n      <td>Anna Nichols</td>\n      <td>6662 Brooks Parks Suite 398, Alvarezport, VT 7...</td>\n      <td>sarahcarroll@example.org</td>\n      <td>+1-223-505-8549x4231</td>\n      <td>986</td>\n      <td>0</td>\n    </tr>\n    <tr>\n      <th>9</th>\n      <td>6469</td>\n      <td>Robert Blankenship</td>\n      <td>149 Morales Fork Apt. 599, Allenborough, NJ 99871</td>\n      <td>friedmansarah@example.com</td>\n      <td>617.808.2250x31491</td>\n      <td>6469</td>\n      <td>0</td>\n    </tr>\n  </tbody>\n</table>\n</div>"
     },
     "execution_count": 4,
     "metadata": {},
     "output_type": "execute_result"
    }
   ],
   "source": [
    "#show df_new\n",
    "df_new.head(10)"
   ],
   "metadata": {
    "collapsed": false,
    "ExecuteTime": {
     "end_time": "2023-08-06T01:33:32.223025700Z",
     "start_time": "2023-08-06T01:33:32.223025700Z"
    }
   },
   "id": "234db57627841061"
  },
  {
   "cell_type": "code",
   "execution_count": 5,
   "outputs": [
    {
     "name": "stderr",
     "output_type": "stream",
     "text": [
      "/usr/local/spark-3.4.1-bin-hadoop3/python/pyspark/sql/dataframe.py:169: UserWarning: DataFrame.sql_ctx is an internal property, and will be removed in future releases. Use DataFrame.sparkSession instead.\n",
      "  warnings.warn(\n",
      "/usr/local/spark-3.4.1-bin-hadoop3/python/pyspark/sql/dataframe.py:148: UserWarning: DataFrame constructor is internal. Do not directly use it.\n",
      "  warnings.warn(\"DataFrame constructor is internal. Do not directly use it.\")\n"
     ]
    }
   ],
   "source": [
    "from pyspark.ml.clustering import KMeans\n",
    "from pyspark.ml.feature import Tokenizer, SQLTransformer, RegexTokenizer, NGram, HashingTF\n",
    "from pyspark.ml.feature import VectorAssembler\n",
    "from pyspark.ml import Pipeline\n",
    "\n",
    "from pyspark.ml.feature import MinHashLSH\n",
    "\n",
    "from graphframes import GraphFrame\n",
    "\n",
    "string_list = ['client_name', 'address', 'email', 'phone_number']\n",
    "distance_threshold = 0.1\n",
    "df_spark = spark.createDataFrame(df_new)\n",
    "#p\n",
    "transform0  =    SQLTransformer(statement=f\"\"\"SELECT *,LOWER(REGEXP_REPLACE(CONCAT({','.join(string_list)}), \n",
    "            '[\\\\s\\\\W]', '')) AS record_strings FROM __THIS__ \"\"\")\n",
    "token0      =    Tokenizer(inputCol=\"record_strings\", outputCol=\"token\" )\n",
    "transform1  =    SQLTransformer(statement=\"SELECT *, concat_ws(' ', token) concat FROM __THIS__\")\n",
    "token1      =    RegexTokenizer(pattern=\"\", inputCol=\"concat\", outputCol=\"char\", minTokenLength=1 )\n",
    "ngram       =    NGram(n=2, inputCol=\"char\", outputCol=\"ngram\")\n",
    "hash      =    HashingTF(inputCol=\"ngram\", outputCol=\"vector\")\n",
    "\n",
    "# feat        =    VectorAssembler(inputCols=[\"vector\"], outputCol=\"features\")\n",
    "# kmeans      =    KMeans(k = 2, seed = 1, predictionCol=\"kmeans\")\n",
    "\n",
    "stages = [transform0,token0,transform1,token1,ngram,hash]\n",
    "#pre-processing\n",
    "pipeline = Pipeline(stages=stages)\n",
    "model = pipeline.fit(df_spark)\n",
    "model_df = model.transform(df_spark)\n",
    "\n",
    "\n",
    "#knn then jaccard distance\n",
    "lsh_model = MinHashLSH(inputCol=\"vector\", outputCol=\"lsh\", numHashTables=3).fit(model_df)\n",
    "similarity_df = lsh_model.approxSimilarityJoin(model_df, model_df, distance_threshold, distCol=\"text_distance\").filter(\"datasetA.client_id != datasetB.client_id\")\n",
    "\n",
    "\n",
    "\n",
    "from pyspark.sql.window import Window\n",
    "from pyspark.sql.functions import col, concat_ws, split, array_sort, min\n",
    "\n",
    "#graphx\n",
    "edges = (similarity_df.selectExpr(\"datasetA.client_id as src\",\"datasetB.client_id as dst\")\n",
    "         .withColumn('set_col', concat_ws(',', col('src'), col('dst')))\n",
    "         .withColumn('sorted_set', array_sort(split(col('set_col'), ',')))\n",
    "         .dropDuplicates(['sorted_set']).select(col(\"src\"), col(\"dst\")))\n",
    "\n",
    "vertices = (similarity_df.selectExpr(\"datasetA.client_id as id\").union(similarity_df.selectExpr(\"datasetB.client_id as id\"))).distinct()\n",
    "\n",
    "\n",
    "#connections graph\n",
    "graph_frame = GraphFrame(vertices, edges)\n",
    "\n",
    "#slow\n",
    "components_df = graph_frame.connectedComponents().withColumn(\"min_id\", min(col(\"id\")).over(Window.partitionBy(\"component\")))"
   ],
   "metadata": {
    "collapsed": false,
    "ExecuteTime": {
     "end_time": "2023-08-06T01:34:39.506704800Z",
     "start_time": "2023-08-06T01:33:32.223025700Z"
    }
   },
   "id": "120b1d88226433c5"
  },
  {
   "cell_type": "code",
   "execution_count": 6,
   "outputs": [
    {
     "name": "stderr",
     "output_type": "stream",
     "text": [
      "23/08/06 01:34:38 WARN package: Truncated the string representation of a plan since it was too large. This behavior can be adjusted by setting 'spark.sql.debug.maxToStringFields'.\n",
      "[Stage 123:====================================================>  (19 + 1) / 20]\r"
     ]
    },
    {
     "name": "stdout",
     "output_type": "stream",
     "text": [
      "+-----+---------+------+\n",
      "|id   |component|min_id|\n",
      "+-----+---------+------+\n",
      "|10014|1        |1     |\n",
      "|10028|1        |1     |\n",
      "|10019|1        |1     |\n",
      "|10091|1        |1     |\n",
      "|10037|1        |1     |\n",
      "|10072|1        |1     |\n",
      "|10059|1        |1     |\n",
      "|10103|1        |1     |\n",
      "|10055|1        |1     |\n",
      "|10061|1        |1     |\n",
      "|10030|1        |1     |\n",
      "|10081|1        |1     |\n",
      "|10020|1        |1     |\n",
      "|10095|1        |1     |\n",
      "|10060|1        |1     |\n",
      "|10023|1        |1     |\n",
      "|10051|1        |1     |\n",
      "|10033|1        |1     |\n",
      "|10011|1        |1     |\n",
      "|10049|1        |1     |\n",
      "+-----+---------+------+\n"
     ]
    },
    {
     "name": "stderr",
     "output_type": "stream",
     "text": [
      "                                                                                \r"
     ]
    }
   ],
   "source": [
    "components_df.show(20,truncate=False)"
   ],
   "metadata": {
    "collapsed": false,
    "ExecuteTime": {
     "end_time": "2023-08-06T01:35:24.307083100Z",
     "start_time": "2023-08-06T01:34:39.506704800Z"
    }
   },
   "id": "12db4520030ab273"
  },
  {
   "cell_type": "code",
   "execution_count": 7,
   "outputs": [
    {
     "name": "stderr",
     "output_type": "stream",
     "text": [
      "[Stage 143:====================================================>  (19 + 1) / 20]\r"
     ]
    },
    {
     "name": "stdout",
     "output_type": "stream",
     "text": [
      "+------------------------------------------------------------------------------------------------------------------------------------------------------------------------------------------------------------------------------------------------------------------------------------------------------------------------------------------------------------------------------------------------------------------------------------------------------------------------------------------------------------------------------------------------------------------------------------------------------------------------------------------------------------------------------------------------------------------------------------------------------------------------------------------------------------------------------------------------------------------------------------------------------------------------------------------------------------------------------------------------------------------------------------------------------------------------------------------------------------------------------------------------------------------------------------------------------------------------------------------------------------------------------------------------------------------------------------------------------------------------------------------------------------------------------------------------------------------------------------------------------------------------------------------------------------------------------------------------------------------------------------------------------------------------------------------------------------------------------------------------------------------------------------------------------------------------------------------------------------------------------------------------------------------------------------------------------------------------------------------------------------------------------------------------------------------------------------------------------------------------------------------------------------------------------------------------------------------------------------------------------------------------------------------------------------------------------------------------------------------------------------------------------------------------------------------------------------------------------------------------------------------------------------------------------------------------------------------------------------------------------------------------+------------------------------------------------------------------------------------------------------------------------------------------------------------------------------------------------------------------------------------------------------------------------------------------------------------------------------------------------------------------------------------------------------------------------------------------------------------------------------------------------------------------------------------------------------------------------------------------------------------------------------------------------------------------------------------------------------------------------------------------------------------------------------------------------------------------------------------------------------------------------------------------------------------------------------------------------------------------------------------------------------------------------------------------------------------------------------------------------------------------------------------------------------------------------------------------------------------------------------------------------------------------------------------------------------------------------------------------------------------------------------------------------------------------------------------------------------------------------------------------------------------------------------------------------------------------------------------------------------------------------------------------------------------------------------------------------------------------------------------------------------------------------------------------------------------------------------------------------------------------------------------------------------------------------------------------------------------------------------------------------------------------------------------------------------------------------------------------------------------------------------------------------------------------------------------------------------------------------------------------------------------------------------------------------------------------------------------------------------------------------------------------------------------------------------------------------------------------------------------------------------------------------------------------------------------------------------------------------------------------------------------------------+--------------------+\n",
      "|datasetA                                                                                                                                                                                                                                                                                                                                                                                                                                                                                                                                                                                                                                                                                                                                                                                                                                                                                                                                                                                                                                                                                                                                                                                                                                                                                                                                                                                                                                                                                                                                                                                                                                                                                                                                                                                                                                                                                                                                                                                                                                                                                                                                                                                                                                                                                                                                                                                                                                                                                                                                                                                                                                        |datasetB                                                                                                                                                                                                                                                                                                                                                                                                                                                                                                                                                                                                                                                                                                                                                                                                                                                                                                                                                                                                                                                                                                                                                                                                                                                                                                                                                                                                                                                                                                                                                                                                                                                                                                                                                                                                                                                                                                                                                                                                                                                                                                                                                                                                                                                                                                                                                                                                                                                                                                                                                                                                                                        |text_distance       |\n",
      "+------------------------------------------------------------------------------------------------------------------------------------------------------------------------------------------------------------------------------------------------------------------------------------------------------------------------------------------------------------------------------------------------------------------------------------------------------------------------------------------------------------------------------------------------------------------------------------------------------------------------------------------------------------------------------------------------------------------------------------------------------------------------------------------------------------------------------------------------------------------------------------------------------------------------------------------------------------------------------------------------------------------------------------------------------------------------------------------------------------------------------------------------------------------------------------------------------------------------------------------------------------------------------------------------------------------------------------------------------------------------------------------------------------------------------------------------------------------------------------------------------------------------------------------------------------------------------------------------------------------------------------------------------------------------------------------------------------------------------------------------------------------------------------------------------------------------------------------------------------------------------------------------------------------------------------------------------------------------------------------------------------------------------------------------------------------------------------------------------------------------------------------------------------------------------------------------------------------------------------------------------------------------------------------------------------------------------------------------------------------------------------------------------------------------------------------------------------------------------------------------------------------------------------------------------------------------------------------------------------------------------------------------+------------------------------------------------------------------------------------------------------------------------------------------------------------------------------------------------------------------------------------------------------------------------------------------------------------------------------------------------------------------------------------------------------------------------------------------------------------------------------------------------------------------------------------------------------------------------------------------------------------------------------------------------------------------------------------------------------------------------------------------------------------------------------------------------------------------------------------------------------------------------------------------------------------------------------------------------------------------------------------------------------------------------------------------------------------------------------------------------------------------------------------------------------------------------------------------------------------------------------------------------------------------------------------------------------------------------------------------------------------------------------------------------------------------------------------------------------------------------------------------------------------------------------------------------------------------------------------------------------------------------------------------------------------------------------------------------------------------------------------------------------------------------------------------------------------------------------------------------------------------------------------------------------------------------------------------------------------------------------------------------------------------------------------------------------------------------------------------------------------------------------------------------------------------------------------------------------------------------------------------------------------------------------------------------------------------------------------------------------------------------------------------------------------------------------------------------------------------------------------------------------------------------------------------------------------------------------------------------------------------------------------------------+--------------------+\n",
      "|{10275, Jordan Fox, 143 Patrick Throughway, Fritztown, OH 41894, jenniferbaldwin@example.net, +1-500-639-9843, 59, 0, jordan fox143 patrick throughway, fritztown, oh 41894jenniferbaldwin@example.net+1-500-639-9843, [jordan, fox143, patrick, throughway,, fritztown,, oh, 41894jenniferbaldwin@example.net+1-500-639-9843], jordan fox143 patrick throughway, fritztown, oh 41894jenniferbaldwin@example.net+1-500-639-9843, [j, o, r, d, a, n,  , f, o, x, 1, 4, 3,  , p, a, t, r, i, c, k,  , t, h, r, o, u, g, h, w, a, y, ,,  , f, r, i, t, z, t, o, w, n, ,,  , o, h,  , 4, 1, 8, 9, 4, j, e, n, n, i, f, e, r, b, a, l, d, w, i, n, @, e, x, a, m, p, l, e, ., n, e, t, +, 1, -, 5, 0, 0, -, 6, 3, 9, -, 9, 8, 4, 3], [j o, o r, r d, d a, a n, n  ,   f, f o, o x, x 1, 1 4, 4 3, 3  ,   p, p a, a t, t r, r i, i c, c k, k  ,   t, t h, h r, r o, o u, u g, g h, h w, w a, a y, y ,, ,  ,   f, f r, r i, i t, t z, z t, t o, o w, w n, n ,, ,  ,   o, o h, h  ,   4, 4 1, 1 8, 8 9, 9 4, 4 j, j e, e n, n n, n i, i f, f e, e r, r b, b a, a l, l d, d w, w i, i n, n @, @ e, e x, x a, a m, m p, p l, l e, e ., . n, n e, e t, t +, + 1, 1 -, - 5, 5 0, 0 0, 0 -, - 6, 6 3, 3 9, 9 -, - 9, 9 8, 8 4, 4 3], (262144,[356,11582,11879,18454,18671,22501,24293,26427,28447,31883,38186,38888,39810,44739,45134,46841,61924,63587,64304,67524,71444,73081,73272,74007,74047,77086,78978,85528,86151,87051,89945,90212,91921,93843,96059,96906,101500,104526,113312,113774,118706,119881,120387,122052,134140,135408,139154,144100,145230,146550,157106,160483,160590,161459,164750,167682,177521,181295,182864,184617,187032,188396,189005,193906,199257,199382,204578,204928,205194,207470,208287,209534,217451,219407,221039,221815,223096,223102,228106,229660,231987,233157,237828,241873,242644,245964,250363,252749,257059,258587],[1.0,1.0,1.0,1.0,1.0,1.0,1.0,1.0,1.0,1.0,1.0,1.0,1.0,1.0,1.0,1.0,1.0,1.0,1.0,1.0,1.0,1.0,1.0,1.0,1.0,1.0,1.0,1.0,1.0,1.0,1.0,1.0,1.0,1.0,1.0,1.0,1.0,1.0,1.0,1.0,1.0,1.0,1.0,1.0,1.0,1.0,1.0,1.0,1.0,1.0,1.0,1.0,1.0,1.0,1.0,1.0,2.0,1.0,1.0,1.0,1.0,1.0,1.0,1.0,1.0,1.0,1.0,1.0,1.0,1.0,1.0,1.0,2.0,1.0,1.0,1.0,1.0,1.0,1.0,1.0,1.0,1.0,1.0,1.0,1.0,1.0,1.0,2.0,2.0,1.0]), [[2.9053971E7], [1.1499927E7], [3.8837262E7]]}                                                                                                                                                                                                                                                                                                                                                                    |{10277, Jordan Fox, 143 Patrick Throughway, Fritztown, OH 41894, jenniferbaldwin@example.net, +1-500-639-9843, 59, 0, jordan fox143 patrick throughway, fritztown, oh 41894jenniferbaldwin@example.net+1-500-639-9843, [jordan, fox143, patrick, throughway,, fritztown,, oh, 41894jenniferbaldwin@example.net+1-500-639-9843], jordan fox143 patrick throughway, fritztown, oh 41894jenniferbaldwin@example.net+1-500-639-9843, [j, o, r, d, a, n,  , f, o, x, 1, 4, 3,  , p, a, t, r, i, c, k,  , t, h, r, o, u, g, h, w, a, y, ,,  , f, r, i, t, z, t, o, w, n, ,,  , o, h,  , 4, 1, 8, 9, 4, j, e, n, n, i, f, e, r, b, a, l, d, w, i, n, @, e, x, a, m, p, l, e, ., n, e, t, +, 1, -, 5, 0, 0, -, 6, 3, 9, -, 9, 8, 4, 3], [j o, o r, r d, d a, a n, n  ,   f, f o, o x, x 1, 1 4, 4 3, 3  ,   p, p a, a t, t r, r i, i c, c k, k  ,   t, t h, h r, r o, o u, u g, g h, h w, w a, a y, y ,, ,  ,   f, f r, r i, i t, t z, z t, t o, o w, w n, n ,, ,  ,   o, o h, h  ,   4, 4 1, 1 8, 8 9, 9 4, 4 j, j e, e n, n n, n i, i f, f e, e r, r b, b a, a l, l d, d w, w i, i n, n @, @ e, e x, x a, a m, m p, p l, l e, e ., . n, n e, e t, t +, + 1, 1 -, - 5, 5 0, 0 0, 0 -, - 6, 6 3, 3 9, 9 -, - 9, 9 8, 8 4, 4 3], (262144,[356,11582,11879,18454,18671,22501,24293,26427,28447,31883,38186,38888,39810,44739,45134,46841,61924,63587,64304,67524,71444,73081,73272,74007,74047,77086,78978,85528,86151,87051,89945,90212,91921,93843,96059,96906,101500,104526,113312,113774,118706,119881,120387,122052,134140,135408,139154,144100,145230,146550,157106,160483,160590,161459,164750,167682,177521,181295,182864,184617,187032,188396,189005,193906,199257,199382,204578,204928,205194,207470,208287,209534,217451,219407,221039,221815,223096,223102,228106,229660,231987,233157,237828,241873,242644,245964,250363,252749,257059,258587],[1.0,1.0,1.0,1.0,1.0,1.0,1.0,1.0,1.0,1.0,1.0,1.0,1.0,1.0,1.0,1.0,1.0,1.0,1.0,1.0,1.0,1.0,1.0,1.0,1.0,1.0,1.0,1.0,1.0,1.0,1.0,1.0,1.0,1.0,1.0,1.0,1.0,1.0,1.0,1.0,1.0,1.0,1.0,1.0,1.0,1.0,1.0,1.0,1.0,1.0,1.0,1.0,1.0,1.0,1.0,1.0,2.0,1.0,1.0,1.0,1.0,1.0,1.0,1.0,1.0,1.0,1.0,1.0,1.0,1.0,1.0,1.0,2.0,1.0,1.0,1.0,1.0,1.0,1.0,1.0,1.0,1.0,1.0,1.0,1.0,1.0,1.0,2.0,2.0,1.0]), [[2.9053971E7], [1.1499927E7], [3.8837262E7]]}                                                                                                                                                                                                                                                                                                                                                                    |0.0                 |\n",
      "|{10133, Jennifer Atkins, 3260 Erin Circle, Martinshire, NM 23726, mark73@example.net, 001-301-850-0585, 11, 0, jennifer atkin3260 erin circle, martinhire, nm 23726mark73@example.net001-301-850-0585, [jennifer, atkin3260, erin, circle,, martinhire,, nm, 23726mark73@example.net001-301-850-0585], jennifer atkin3260 erin circle, martinhire, nm 23726mark73@example.net001-301-850-0585, [j, e, n, n, i, f, e, r,  , a, t, k, i, n, 3, 2, 6, 0,  , e, r, i, n,  , c, i, r, c, l, e, ,,  , m, a, r, t, i, n, h, i, r, e, ,,  , n, m,  , 2, 3, 7, 2, 6, m, a, r, k, 7, 3, @, e, x, a, m, p, l, e, ., n, e, t, 0, 0, 1, -, 3, 0, 1, -, 8, 5, 0, -, 0, 5, 8, 5], [j e, e n, n n, n i, i f, f e, e r, r  ,   a, a t, t k, k i, i n, n 3, 3 2, 2 6, 6 0, 0  ,   e, e r, r i, i n, n  ,   c, c i, i r, r c, c l, l e, e ,, ,  ,   m, m a, a r, r t, t i, i n, n h, h i, i r, r e, e ,, ,  ,   n, n m, m  ,   2, 2 3, 3 7, 7 2, 2 6, 6 m, m a, a r, r k, k 7, 7 3, 3 @, @ e, e x, x a, a m, m p, p l, l e, e ., . n, n e, e t, t 0, 0 0, 0 1, 1 -, - 3, 3 0, 0 1, 1 -, - 8, 8 5, 5 0, 0 -, - 0, 0 5, 5 8, 8 5], (262144,[356,2004,17936,32718,44739,49454,63039,64304,66745,68701,71444,72497,73272,75339,75555,77086,77604,77683,86301,87051,92453,95622,101500,101718,103513,104526,104886,112123,113173,113312,113774,114508,117632,118706,120387,122052,123611,132436,148373,153952,154779,167178,168142,177521,178296,181295,183908,187032,188288,191922,199161,199257,201913,206861,208287,210682,213397,218715,219407,221039,221473,221815,223096,223411,228106,233157,237046,241415,242644,251286,252749,258329],[1.0,1.0,1.0,1.0,1.0,1.0,1.0,1.0,1.0,1.0,1.0,1.0,1.0,1.0,2.0,3.0,1.0,1.0,1.0,1.0,1.0,1.0,1.0,1.0,1.0,2.0,1.0,1.0,1.0,1.0,1.0,1.0,1.0,1.0,2.0,2.0,1.0,1.0,1.0,1.0,1.0,1.0,1.0,1.0,1.0,1.0,1.0,1.0,2.0,1.0,1.0,1.0,1.0,1.0,1.0,1.0,1.0,2.0,1.0,1.0,1.0,1.0,1.0,2.0,1.0,1.0,2.0,2.0,1.0,1.0,2.0,2.0]), [[2.9053971E7], [8.3110635E7], [5096781.0]]}                                                                                                                                                                                                                                                                                                                                                                                                                                                                                                                                                                                                                                                                         |{11, Jennifer Atkins, 3260 Erin Circle, Martinshire, NM 23726, mark73@example.net, 001-301-850-0585, 11, 0, jennifer atkin3260 erin circle, martinhire, nm 23726mark73@example.net001-301-850-0585, [jennifer, atkin3260, erin, circle,, martinhire,, nm, 23726mark73@example.net001-301-850-0585], jennifer atkin3260 erin circle, martinhire, nm 23726mark73@example.net001-301-850-0585, [j, e, n, n, i, f, e, r,  , a, t, k, i, n, 3, 2, 6, 0,  , e, r, i, n,  , c, i, r, c, l, e, ,,  , m, a, r, t, i, n, h, i, r, e, ,,  , n, m,  , 2, 3, 7, 2, 6, m, a, r, k, 7, 3, @, e, x, a, m, p, l, e, ., n, e, t, 0, 0, 1, -, 3, 0, 1, -, 8, 5, 0, -, 0, 5, 8, 5], [j e, e n, n n, n i, i f, f e, e r, r  ,   a, a t, t k, k i, i n, n 3, 3 2, 2 6, 6 0, 0  ,   e, e r, r i, i n, n  ,   c, c i, i r, r c, c l, l e, e ,, ,  ,   m, m a, a r, r t, t i, i n, n h, h i, i r, r e, e ,, ,  ,   n, n m, m  ,   2, 2 3, 3 7, 7 2, 2 6, 6 m, m a, a r, r k, k 7, 7 3, 3 @, @ e, e x, x a, a m, m p, p l, l e, e ., . n, n e, e t, t 0, 0 0, 0 1, 1 -, - 3, 3 0, 0 1, 1 -, - 8, 8 5, 5 0, 0 -, - 0, 0 5, 5 8, 8 5], (262144,[356,2004,17936,32718,44739,49454,63039,64304,66745,68701,71444,72497,73272,75339,75555,77086,77604,77683,86301,87051,92453,95622,101500,101718,103513,104526,104886,112123,113173,113312,113774,114508,117632,118706,120387,122052,123611,132436,148373,153952,154779,167178,168142,177521,178296,181295,183908,187032,188288,191922,199161,199257,201913,206861,208287,210682,213397,218715,219407,221039,221473,221815,223096,223411,228106,233157,237046,241415,242644,251286,252749,258329],[1.0,1.0,1.0,1.0,1.0,1.0,1.0,1.0,1.0,1.0,1.0,1.0,1.0,1.0,2.0,3.0,1.0,1.0,1.0,1.0,1.0,1.0,1.0,1.0,1.0,2.0,1.0,1.0,1.0,1.0,1.0,1.0,1.0,1.0,2.0,2.0,1.0,1.0,1.0,1.0,1.0,1.0,1.0,1.0,1.0,1.0,1.0,1.0,2.0,1.0,1.0,1.0,1.0,1.0,1.0,1.0,1.0,2.0,1.0,1.0,1.0,1.0,1.0,2.0,1.0,1.0,2.0,2.0,1.0,1.0,2.0,2.0]), [[2.9053971E7], [8.3110635E7], [5096781.0]]}                                                                                                                                                                                                                                                                                                                                                                                                                                                                                                                                                                                                                                                                            |0.0                 |\n",
      "|{10240, Christine Wood, 13232 Michael Spur, East Elizabethmouth, PW 40805, joanne08@example.com, 001-318-269-5632x3509, 47, 0, chritine ood13232 michael spur, eat elizabethmouth, p 40805joanne08@example.com001-318-269-5632x3509, [chritine, ood13232, michael, spur,, eat, elizabethmouth,, p, 40805joanne08@example.com001-318-269-5632x3509], chritine ood13232 michael spur, eat elizabethmouth, p 40805joanne08@example.com001-318-269-5632x3509, [c, h, r, i, t, i, n, e,  , o, o, d, 1, 3, 2, 3, 2,  , m, i, c, h, a, e, l,  , s, p, u, r, ,,  , e, a, t,  , e, l, i, z, a, b, e, t, h, m, o, u, t, h, ,,  , p,  , 4, 0, 8, 0, 5, j, o, a, n, n, e, 0, 8, @, e, x, a, m, p, l, e, ., c, o, m, 0, 0, 1, -, 3, 1, 8, -, 2, 6, 9, -, 5, 6, 3, 2, x, 3, 5, 0, 9], [c h, h r, r i, i t, t i, i n, n e, e  ,   o, o o, o d, d 1, 1 3, 3 2, 2 3, 3 2, 2  ,   m, m i, i c, c h, h a, a e, e l, l  ,   s, s p, p u, u r, r ,, ,  ,   e, e a, a t, t  ,   e, e l, l i, i z, z a, a b, b e, e t, t h, h m, m o, o u, u t, t h, h ,, ,  ,   p, p  ,   4, 4 0, 0 8, 8 0, 0 5, 5 j, j o, o a, a n, n n, n e, e 0, 0 8, 8 @, @ e, e x, x a, a m, m p, p l, l e, e ., . c, c o, o m, m 0, 0 0, 0 1, 1 -, - 3, 3 1, 1 8, 8 -, - 2, 2 6, 6 9, 9 -, - 5, 5 6, 6 3, 3 2, 2 x, x 3, 3 5, 5 0, 0 9], (262144,[356,4497,10761,12701,12925,13815,18454,22501,23701,24293,27494,28447,31883,32718,33839,34725,44739,45134,47130,51995,57892,68648,73081,73272,74007,77086,77215,77604,78978,81157,81497,85282,85434,86151,86301,92610,96906,97768,101500,104526,108145,111152,113287,113312,113774,114358,118706,122052,123967,128351,129160,131922,132436,137517,142542,144100,145703,148125,160987,168142,175751,177521,180282,183908,187032,188893,189470,199257,199781,200433,202838,208287,210804,218715,219748,220331,221473,222110,223096,223102,223411,227529,228106,228505,230033,242644,245964,249502,252749,259701],[1.0,1.0,1.0,1.0,1.0,1.0,1.0,1.0,1.0,1.0,1.0,1.0,1.0,1.0,1.0,1.0,1.0,1.0,1.0,1.0,1.0,1.0,1.0,2.0,1.0,1.0,2.0,2.0,1.0,1.0,1.0,1.0,1.0,1.0,1.0,1.0,1.0,1.0,1.0,1.0,1.0,1.0,1.0,1.0,1.0,1.0,1.0,1.0,1.0,1.0,1.0,1.0,1.0,2.0,1.0,1.0,1.0,1.0,1.0,1.0,1.0,1.0,1.0,3.0,1.0,1.0,1.0,1.0,1.0,2.0,1.0,1.0,1.0,1.0,1.0,1.0,1.0,1.0,1.0,2.0,1.0,1.0,1.0,1.0,1.0,1.0,1.0,1.0,2.0,1.0]), [[2.9053971E7], [1.1499927E7], [5096781.0]]}                                                                                                                                                                                                                                                                                                        |{47, Christine Wood, 13232 Michael Spur, East Elizabethmouth, PW 40805, joanne08@example.com, 001-318-269-5632x3509, 47, 0, chritine ood13232 michael spur, eat elizabethmouth, p 40805joanne08@example.com001-318-269-5632x3509, [chritine, ood13232, michael, spur,, eat, elizabethmouth,, p, 40805joanne08@example.com001-318-269-5632x3509], chritine ood13232 michael spur, eat elizabethmouth, p 40805joanne08@example.com001-318-269-5632x3509, [c, h, r, i, t, i, n, e,  , o, o, d, 1, 3, 2, 3, 2,  , m, i, c, h, a, e, l,  , s, p, u, r, ,,  , e, a, t,  , e, l, i, z, a, b, e, t, h, m, o, u, t, h, ,,  , p,  , 4, 0, 8, 0, 5, j, o, a, n, n, e, 0, 8, @, e, x, a, m, p, l, e, ., c, o, m, 0, 0, 1, -, 3, 1, 8, -, 2, 6, 9, -, 5, 6, 3, 2, x, 3, 5, 0, 9], [c h, h r, r i, i t, t i, i n, n e, e  ,   o, o o, o d, d 1, 1 3, 3 2, 2 3, 3 2, 2  ,   m, m i, i c, c h, h a, a e, e l, l  ,   s, s p, p u, u r, r ,, ,  ,   e, e a, a t, t  ,   e, e l, l i, i z, z a, a b, b e, e t, t h, h m, m o, o u, u t, t h, h ,, ,  ,   p, p  ,   4, 4 0, 0 8, 8 0, 0 5, 5 j, j o, o a, a n, n n, n e, e 0, 0 8, 8 @, @ e, e x, x a, a m, m p, p l, l e, e ., . c, c o, o m, m 0, 0 0, 0 1, 1 -, - 3, 3 1, 1 8, 8 -, - 2, 2 6, 6 9, 9 -, - 5, 5 6, 6 3, 3 2, 2 x, x 3, 3 5, 5 0, 0 9], (262144,[356,4497,10761,12701,12925,13815,18454,22501,23701,24293,27494,28447,31883,32718,33839,34725,44739,45134,47130,51995,57892,68648,73081,73272,74007,77086,77215,77604,78978,81157,81497,85282,85434,86151,86301,92610,96906,97768,101500,104526,108145,111152,113287,113312,113774,114358,118706,122052,123967,128351,129160,131922,132436,137517,142542,144100,145703,148125,160987,168142,175751,177521,180282,183908,187032,188893,189470,199257,199781,200433,202838,208287,210804,218715,219748,220331,221473,222110,223096,223102,223411,227529,228106,228505,230033,242644,245964,249502,252749,259701],[1.0,1.0,1.0,1.0,1.0,1.0,1.0,1.0,1.0,1.0,1.0,1.0,1.0,1.0,1.0,1.0,1.0,1.0,1.0,1.0,1.0,1.0,1.0,2.0,1.0,1.0,2.0,2.0,1.0,1.0,1.0,1.0,1.0,1.0,1.0,1.0,1.0,1.0,1.0,1.0,1.0,1.0,1.0,1.0,1.0,1.0,1.0,1.0,1.0,1.0,1.0,1.0,1.0,2.0,1.0,1.0,1.0,1.0,1.0,1.0,1.0,1.0,1.0,3.0,1.0,1.0,1.0,1.0,1.0,2.0,1.0,1.0,1.0,1.0,1.0,1.0,1.0,1.0,1.0,2.0,1.0,1.0,1.0,1.0,1.0,1.0,1.0,1.0,2.0,1.0]), [[2.9053971E7], [1.1499927E7], [5096781.0]]}                                                                                                                                                                                                                                                                                                           |0.0                 |\n",
      "|{10277, Jordan Fox, 143 Patrick Throughway, Fritztown, OH 41894, jenniferbaldwin@example.net, +1-500-639-9843, 59, 0, jordan fox143 patrick throughway, fritztown, oh 41894jenniferbaldwin@example.net+1-500-639-9843, [jordan, fox143, patrick, throughway,, fritztown,, oh, 41894jenniferbaldwin@example.net+1-500-639-9843], jordan fox143 patrick throughway, fritztown, oh 41894jenniferbaldwin@example.net+1-500-639-9843, [j, o, r, d, a, n,  , f, o, x, 1, 4, 3,  , p, a, t, r, i, c, k,  , t, h, r, o, u, g, h, w, a, y, ,,  , f, r, i, t, z, t, o, w, n, ,,  , o, h,  , 4, 1, 8, 9, 4, j, e, n, n, i, f, e, r, b, a, l, d, w, i, n, @, e, x, a, m, p, l, e, ., n, e, t, +, 1, -, 5, 0, 0, -, 6, 3, 9, -, 9, 8, 4, 3], [j o, o r, r d, d a, a n, n  ,   f, f o, o x, x 1, 1 4, 4 3, 3  ,   p, p a, a t, t r, r i, i c, c k, k  ,   t, t h, h r, r o, o u, u g, g h, h w, w a, a y, y ,, ,  ,   f, f r, r i, i t, t z, z t, t o, o w, w n, n ,, ,  ,   o, o h, h  ,   4, 4 1, 1 8, 8 9, 9 4, 4 j, j e, e n, n n, n i, i f, f e, e r, r b, b a, a l, l d, d w, w i, i n, n @, @ e, e x, x a, a m, m p, p l, l e, e ., . n, n e, e t, t +, + 1, 1 -, - 5, 5 0, 0 0, 0 -, - 6, 6 3, 3 9, 9 -, - 9, 9 8, 8 4, 4 3], (262144,[356,11582,11879,18454,18671,22501,24293,26427,28447,31883,38186,38888,39810,44739,45134,46841,61924,63587,64304,67524,71444,73081,73272,74007,74047,77086,78978,85528,86151,87051,89945,90212,91921,93843,96059,96906,101500,104526,113312,113774,118706,119881,120387,122052,134140,135408,139154,144100,145230,146550,157106,160483,160590,161459,164750,167682,177521,181295,182864,184617,187032,188396,189005,193906,199257,199382,204578,204928,205194,207470,208287,209534,217451,219407,221039,221815,223096,223102,228106,229660,231987,233157,237828,241873,242644,245964,250363,252749,257059,258587],[1.0,1.0,1.0,1.0,1.0,1.0,1.0,1.0,1.0,1.0,1.0,1.0,1.0,1.0,1.0,1.0,1.0,1.0,1.0,1.0,1.0,1.0,1.0,1.0,1.0,1.0,1.0,1.0,1.0,1.0,1.0,1.0,1.0,1.0,1.0,1.0,1.0,1.0,1.0,1.0,1.0,1.0,1.0,1.0,1.0,1.0,1.0,1.0,1.0,1.0,1.0,1.0,1.0,1.0,1.0,1.0,2.0,1.0,1.0,1.0,1.0,1.0,1.0,1.0,1.0,1.0,1.0,1.0,1.0,1.0,1.0,1.0,2.0,1.0,1.0,1.0,1.0,1.0,1.0,1.0,1.0,1.0,1.0,1.0,1.0,1.0,1.0,2.0,2.0,1.0]), [[2.9053971E7], [1.1499927E7], [3.8837262E7]]}                                                                                                                                                                                                                                                                                                                                                                    |{59, Jordan Fox, 143 Patrick Throughway, Fritztown, OH 41894, jenniferbaldwin@example.net, +1-500-639-9843, 59, 0, jordan fox143 patrick throughway, fritztown, oh 41894jenniferbaldwin@example.net+1-500-639-9843, [jordan, fox143, patrick, throughway,, fritztown,, oh, 41894jenniferbaldwin@example.net+1-500-639-9843], jordan fox143 patrick throughway, fritztown, oh 41894jenniferbaldwin@example.net+1-500-639-9843, [j, o, r, d, a, n,  , f, o, x, 1, 4, 3,  , p, a, t, r, i, c, k,  , t, h, r, o, u, g, h, w, a, y, ,,  , f, r, i, t, z, t, o, w, n, ,,  , o, h,  , 4, 1, 8, 9, 4, j, e, n, n, i, f, e, r, b, a, l, d, w, i, n, @, e, x, a, m, p, l, e, ., n, e, t, +, 1, -, 5, 0, 0, -, 6, 3, 9, -, 9, 8, 4, 3], [j o, o r, r d, d a, a n, n  ,   f, f o, o x, x 1, 1 4, 4 3, 3  ,   p, p a, a t, t r, r i, i c, c k, k  ,   t, t h, h r, r o, o u, u g, g h, h w, w a, a y, y ,, ,  ,   f, f r, r i, i t, t z, z t, t o, o w, w n, n ,, ,  ,   o, o h, h  ,   4, 4 1, 1 8, 8 9, 9 4, 4 j, j e, e n, n n, n i, i f, f e, e r, r b, b a, a l, l d, d w, w i, i n, n @, @ e, e x, x a, a m, m p, p l, l e, e ., . n, n e, e t, t +, + 1, 1 -, - 5, 5 0, 0 0, 0 -, - 6, 6 3, 3 9, 9 -, - 9, 9 8, 8 4, 4 3], (262144,[356,11582,11879,18454,18671,22501,24293,26427,28447,31883,38186,38888,39810,44739,45134,46841,61924,63587,64304,67524,71444,73081,73272,74007,74047,77086,78978,85528,86151,87051,89945,90212,91921,93843,96059,96906,101500,104526,113312,113774,118706,119881,120387,122052,134140,135408,139154,144100,145230,146550,157106,160483,160590,161459,164750,167682,177521,181295,182864,184617,187032,188396,189005,193906,199257,199382,204578,204928,205194,207470,208287,209534,217451,219407,221039,221815,223096,223102,228106,229660,231987,233157,237828,241873,242644,245964,250363,252749,257059,258587],[1.0,1.0,1.0,1.0,1.0,1.0,1.0,1.0,1.0,1.0,1.0,1.0,1.0,1.0,1.0,1.0,1.0,1.0,1.0,1.0,1.0,1.0,1.0,1.0,1.0,1.0,1.0,1.0,1.0,1.0,1.0,1.0,1.0,1.0,1.0,1.0,1.0,1.0,1.0,1.0,1.0,1.0,1.0,1.0,1.0,1.0,1.0,1.0,1.0,1.0,1.0,1.0,1.0,1.0,1.0,1.0,2.0,1.0,1.0,1.0,1.0,1.0,1.0,1.0,1.0,1.0,1.0,1.0,1.0,1.0,1.0,1.0,2.0,1.0,1.0,1.0,1.0,1.0,1.0,1.0,1.0,1.0,1.0,1.0,1.0,1.0,1.0,2.0,2.0,1.0]), [[2.9053971E7], [1.1499927E7], [3.8837262E7]]}                                                                                                                                                                                                                                                                                                                                                                       |0.0                 |\n",
      "|{10319, James Peck, 12190 Moran Land, Martinezville, TN 19016, xbarry@example.org, 506-539-1210, 73, 0, jame peck12190 moran land, martinezville, tn 19016xbarry@example.org506-539-1210, [jame, peck12190, moran, land,, martinezville,, tn, 19016xbarry@example.org506-539-1210], jame peck12190 moran land, martinezville, tn 19016xbarry@example.org506-539-1210, [j, a, m, e,  , p, e, c, k, 1, 2, 1, 9, 0,  , m, o, r, a, n,  , l, a, n, d, ,,  , m, a, r, t, i, n, e, z, v, i, l, l, e, ,,  , t, n,  , 1, 9, 0, 1, 6, x, b, a, r, r, y, @, e, x, a, m, p, l, e, ., o, r, g, 5, 0, 6, -, 5, 3, 9, -, 1, 2, 1, 0], [j a, a m, m e, e  ,   p, p e, e c, c k, k 1, 1 2, 2 1, 1 9, 9 0, 0  ,   m, m o, o r, r a, a n, n  ,   l, l a, a n, n d, d ,, ,  ,   m, m a, a r, r t, t i, i n, n e, e z, z v, v i, i l, l l, l e, e ,, ,  ,   t, t n, n  ,   1, 1 9, 9 0, 0 1, 1 6, 6 x, x b, b a, a r, r r, r y, y @, @ e, e x, x a, a m, m p, p l, l e, e ., . o, o r, r g, g 5, 5 0, 0 6, 6 -, - 5, 5 3, 3 9, 9 -, - 1, 1 2, 2 1, 1 0], (262144,[356,6990,12512,18671,21092,25042,26879,32718,33076,38888,40652,43968,44739,45134,72039,72497,73272,74007,75555,77086,85528,86151,89857,90383,94639,103495,104526,107805,111400,113774,121137,125288,135408,145135,147223,153952,157106,160941,162408,162666,163642,166491,172418,175230,179603,184957,186212,187032,188288,191479,197405,199257,208287,210804,221473,223076,223096,223411,231216,231553,233157,241415,242644,245964,249502,252749,259429],[2.0,2.0,2.0,1.0,1.0,2.0,1.0,1.0,1.0,1.0,1.0,1.0,1.0,1.0,1.0,1.0,1.0,1.0,2.0,1.0,1.0,2.0,1.0,1.0,1.0,1.0,2.0,1.0,1.0,1.0,1.0,1.0,2.0,1.0,1.0,1.0,1.0,1.0,1.0,1.0,1.0,1.0,1.0,1.0,1.0,1.0,1.0,1.0,1.0,1.0,1.0,1.0,1.0,1.0,2.0,1.0,1.0,1.0,2.0,1.0,2.0,1.0,1.0,1.0,1.0,2.0,1.0]), [[1.272117E7], [6.7147277E7], [2.8209146E7]]}                                                                                                                                                                                                                                                                                                                                                                                                                                                                                                                                                                                                                                                                                                                                                                                                           |{10317, James Peck, 12190 Moran Land, Martinezville, TN 19016, xbarry@example.org, 506-539-1210, 73, 0, jame peck12190 moran land, martinezville, tn 19016xbarry@example.org506-539-1210, [jame, peck12190, moran, land,, martinezville,, tn, 19016xbarry@example.org506-539-1210], jame peck12190 moran land, martinezville, tn 19016xbarry@example.org506-539-1210, [j, a, m, e,  , p, e, c, k, 1, 2, 1, 9, 0,  , m, o, r, a, n,  , l, a, n, d, ,,  , m, a, r, t, i, n, e, z, v, i, l, l, e, ,,  , t, n,  , 1, 9, 0, 1, 6, x, b, a, r, r, y, @, e, x, a, m, p, l, e, ., o, r, g, 5, 0, 6, -, 5, 3, 9, -, 1, 2, 1, 0], [j a, a m, m e, e  ,   p, p e, e c, c k, k 1, 1 2, 2 1, 1 9, 9 0, 0  ,   m, m o, o r, r a, a n, n  ,   l, l a, a n, n d, d ,, ,  ,   m, m a, a r, r t, t i, i n, n e, e z, z v, v i, i l, l l, l e, e ,, ,  ,   t, t n, n  ,   1, 1 9, 9 0, 0 1, 1 6, 6 x, x b, b a, a r, r r, r y, y @, @ e, e x, x a, a m, m p, p l, l e, e ., . o, o r, r g, g 5, 5 0, 0 6, 6 -, - 5, 5 3, 3 9, 9 -, - 1, 1 2, 2 1, 1 0], (262144,[356,6990,12512,18671,21092,25042,26879,32718,33076,38888,40652,43968,44739,45134,72039,72497,73272,74007,75555,77086,85528,86151,89857,90383,94639,103495,104526,107805,111400,113774,121137,125288,135408,145135,147223,153952,157106,160941,162408,162666,163642,166491,172418,175230,179603,184957,186212,187032,188288,191479,197405,199257,208287,210804,221473,223076,223096,223411,231216,231553,233157,241415,242644,245964,249502,252749,259429],[2.0,2.0,2.0,1.0,1.0,2.0,1.0,1.0,1.0,1.0,1.0,1.0,1.0,1.0,1.0,1.0,1.0,1.0,2.0,1.0,1.0,2.0,1.0,1.0,1.0,1.0,2.0,1.0,1.0,1.0,1.0,1.0,2.0,1.0,1.0,1.0,1.0,1.0,1.0,1.0,1.0,1.0,1.0,1.0,1.0,1.0,1.0,1.0,1.0,1.0,1.0,1.0,1.0,1.0,2.0,1.0,1.0,1.0,2.0,1.0,2.0,1.0,1.0,1.0,1.0,2.0,1.0]), [[1.272117E7], [6.7147277E7], [2.8209146E7]]}                                                                                                                                                                                                                                                                                                                                                                                                                                                                                                                                                                                                                                                                                                                                                                                                           |0.0                 |\n",
      "|{10313, Jesse Ford, 2150 Elizabeth Station Suite 630, Johnton, ME 09295, cmorris@example.org, +1-600-283-0742x0263, 71, 0, jee ford2150 elizabeth station suite 630, johnton, me 09295cmorri@example.org+1-600-283-0742x0263, [jee, ford2150, elizabeth, station, suite, 630,, johnton,, me, 09295cmorri@example.org+1-600-283-0742x0263], jee ford2150 elizabeth station suite 630, johnton, me 09295cmorri@example.org+1-600-283-0742x0263, [j, e, e,  , f, o, r, d, 2, 1, 5, 0,  , e, l, i, z, a, b, e, t, h,  , s, t, a, t, i, o, n,  , s, u, i, t, e,  , 6, 3, 0, ,,  , j, o, h, n, t, o, n, ,,  , m, e,  , 0, 9, 2, 9, 5, c, m, o, r, r, i, @, e, x, a, m, p, l, e, ., o, r, g, +, 1, -, 6, 0, 0, -, 2, 8, 3, -, 0, 7, 4, 2, x, 0, 2, 6, 3], [j e, e e, e  ,   f, f o, o r, r d, d 2, 2 1, 1 5, 5 0, 0  ,   e, e l, l i, i z, z a, a b, b e, e t, t h, h  ,   s, s t, t a, a t, t i, i o, o n, n  ,   s, s u, u i, i t, t e, e  ,   6, 6 3, 3 0, 0 ,, ,  ,   j, j o, o h, h n, n t, t o, o n, n ,, ,  ,   m, m e, e  ,   0, 0 9, 9 2, 2 9, 9 5, 5 c, c m, m o, o r, r r, r i, i @, @ e, e x, x a, a m, m p, p l, l e, e ., . o, o r, r g, g +, + 1, 1 -, - 6, 6 0, 0 0, 0 -, - 2, 2 8, 8 3, 3 -, - 0, 0 7, 7 4, 4 2, 2 x, x 0, 0 2, 2 6, 6 3], (262144,[356,3964,6990,9918,12925,17598,18430,24293,30391,32718,33839,40652,44739,48728,51995,54492,58370,62569,63587,72497,73081,74047,77604,88967,92610,101500,104526,104886,111400,113312,113774,117632,118706,119881,122052,123850,123967,128351,129160,134140,135408,136516,144100,144916,145135,145230,147223,148157,149088,157571,160483,163490,164750,173657,177521,187032,189619,195669,199257,200433,200437,203930,204928,206861,208287,209116,210804,216599,218715,219407,220304,221135,221473,221815,223096,223102,227529,230033,232060,233157,238181,242644,243069,244501,249502,252749,257059,258402],[1.0,1.0,1.0,1.0,1.0,1.0,1.0,1.0,1.0,1.0,1.0,1.0,1.0,1.0,1.0,1.0,1.0,1.0,1.0,1.0,1.0,1.0,1.0,1.0,2.0,1.0,1.0,1.0,1.0,1.0,1.0,1.0,1.0,1.0,1.0,1.0,1.0,1.0,1.0,1.0,3.0,1.0,2.0,1.0,1.0,1.0,1.0,1.0,1.0,1.0,1.0,1.0,1.0,2.0,1.0,1.0,1.0,1.0,1.0,1.0,1.0,1.0,1.0,1.0,1.0,1.0,1.0,1.0,1.0,1.0,1.0,1.0,1.0,1.0,1.0,1.0,1.0,1.0,1.0,1.0,1.0,1.0,1.0,1.0,3.0,2.0,1.0,1.0]), [[2.9053971E7], [2.9522437E7], [3.8837262E7]]}                                                                                                                                                                                                                                                                                                                                                     |{10311, Jesse Ford, 2150 Elizabeth Station Suite 630, Johnton, ME 09295, cmorris@example.org, +1-620-283-0742x0263, 71, 1, jee ford2150 elizabeth station suite 630, johnton, me 09295cmorri@example.org+1-620-283-0742x0263, [jee, ford2150, elizabeth, station, suite, 630,, johnton,, me, 09295cmorri@example.org+1-620-283-0742x0263], jee ford2150 elizabeth station suite 630, johnton, me 09295cmorri@example.org+1-620-283-0742x0263, [j, e, e,  , f, o, r, d, 2, 1, 5, 0,  , e, l, i, z, a, b, e, t, h,  , s, t, a, t, i, o, n,  , s, u, i, t, e,  , 6, 3, 0, ,,  , j, o, h, n, t, o, n, ,,  , m, e,  , 0, 9, 2, 9, 5, c, m, o, r, r, i, @, e, x, a, m, p, l, e, ., o, r, g, +, 1, -, 6, 2, 0, -, 2, 8, 3, -, 0, 7, 4, 2, x, 0, 2, 6, 3], [j e, e e, e  ,   f, f o, o r, r d, d 2, 2 1, 1 5, 5 0, 0  ,   e, e l, l i, i z, z a, a b, b e, e t, t h, h  ,   s, s t, t a, a t, t i, i o, o n, n  ,   s, s u, u i, i t, t e, e  ,   6, 6 3, 3 0, 0 ,, ,  ,   j, j o, o h, h n, n t, t o, o n, n ,, ,  ,   m, m e, e  ,   0, 0 9, 9 2, 2 9, 9 5, 5 c, c m, m o, o r, r r, r i, i @, @ e, e x, x a, a m, m p, p l, l e, e ., . o, o r, r g, g +, + 1, 1 -, - 6, 6 2, 2 0, 0 -, - 2, 2 8, 8 3, 3 -, - 0, 0 7, 7 4, 4 2, 2 x, x 0, 0 2, 2 6, 6 3], (262144,[356,3964,6990,9918,12925,17598,18430,24293,30391,32718,33839,40652,44739,48728,51995,54492,58370,62569,63587,72497,73081,74047,77604,88967,92610,101500,104526,104886,111400,113312,113774,116799,119881,122052,123850,123967,128351,129160,134140,135408,136516,144100,144916,145135,145230,147223,148157,149088,157571,160483,163490,164750,169125,173657,177521,187032,189619,195669,199257,200433,200437,203930,204928,206861,208287,209116,210804,216599,218715,219407,220304,221135,221473,221815,223096,223102,227529,230033,232060,233157,238181,242644,243069,244501,249502,252749,257059,258402],[1.0,1.0,1.0,1.0,1.0,1.0,1.0,1.0,1.0,1.0,1.0,1.0,1.0,1.0,1.0,1.0,1.0,1.0,1.0,1.0,1.0,1.0,1.0,1.0,2.0,1.0,1.0,1.0,1.0,1.0,1.0,1.0,1.0,1.0,1.0,1.0,1.0,1.0,1.0,3.0,1.0,2.0,1.0,1.0,1.0,1.0,1.0,1.0,1.0,1.0,1.0,1.0,1.0,2.0,1.0,1.0,1.0,1.0,1.0,1.0,1.0,1.0,1.0,1.0,1.0,1.0,1.0,1.0,1.0,1.0,1.0,1.0,1.0,1.0,1.0,1.0,1.0,1.0,1.0,1.0,1.0,1.0,1.0,1.0,3.0,2.0,1.0,1.0]), [[2.9053971E7], [2.9522437E7], [3.8837262E7]]}                                                                                                                                                                                                                                                                                                                                                     |0.0444444444444444  |\n",
      "|{10342, Jake Brown, 13166 Harris Plain, Port Stephentown, AZ 50780, kennethmccarty@example.net, (641)342-1470, 81, 0, jake brown13166 harri plain, port stephentown, az 50780kennethmccarty@example.net(641)342-1470, [jake, brown13166, harri, plain,, port, stephentown,, az, 50780kennethmccarty@example.net(641)342-1470], jake brown13166 harri plain, port stephentown, az 50780kennethmccarty@example.net(641)342-1470, [j, a, k, e,  , b, r, o, w, n, 1, 3, 1, 6, 6,  , h, a, r, r, i,  , p, l, a, i, n, ,,  , p, o, r, t,  , s, t, e, p, h, e, n, t, o, w, n, ,,  , a, z,  , 5, 0, 7, 8, 0, k, e, n, n, e, t, h, m, c, c, a, r, t, y, @, e, x, a, m, p, l, e, ., n, e, t, (, 6, 4, 1, ), 3, 4, 2, -, 1, 4, 7, 0], [j a, a k, k e, e  ,   b, b r, r o, o w, w n, n 1, 1 3, 3 1, 1 6, 6 6, 6  ,   h, h a, a r, r r, r i, i  ,   p, p l, l a, a i, i n, n ,, ,  ,   p, p o, o r, r t, t  ,   s, s t, t e, e p, p h, h e, e n, n t, t o, o w, w n, n ,, ,  ,   a, a z, z  ,   5, 5 0, 0 7, 7 8, 8 0, 0 k, k e, e n, n n, n e, e t, t h, h m, m c, c c, c a, a r, r t, t y, y @, @ e, e x, x a, a m, m p, p l, l e, e ., . n, n e, e t, t (, ( 6, 6 4, 4 1, 1 ), ) 3, 3 4, 4 2, 2 -, - 1, 1 4, 4 7, 7 0], (262144,[356,5118,5862,9918,10092,10327,21717,24638,25767,27478,38564,44739,46841,58370,60060,64304,71444,73272,74007,75555,77086,77792,78381,80033,80424,85282,85434,89857,89945,92610,101459,101718,103812,104526,107805,113287,113312,113774,121137,123409,125820,134140,134241,135408,142542,147223,148125,148157,153952,161459,162666,164750,177521,178161,182864,184480,187032,188893,190188,199257,203879,204578,207163,208287,222482,223076,223096,223102,228106,231895,232060,235263,236074,242644,244501,246488,249502,251209,252749,253654,259415],[1.0,1.0,1.0,1.0,1.0,1.0,1.0,1.0,1.0,1.0,1.0,2.0,1.0,1.0,1.0,2.0,1.0,2.0,2.0,2.0,1.0,1.0,2.0,1.0,1.0,1.0,1.0,1.0,1.0,1.0,1.0,1.0,1.0,1.0,1.0,1.0,2.0,1.0,1.0,1.0,1.0,1.0,1.0,1.0,1.0,1.0,1.0,1.0,2.0,2.0,1.0,2.0,1.0,1.0,1.0,1.0,1.0,1.0,1.0,1.0,1.0,2.0,1.0,1.0,1.0,1.0,1.0,1.0,1.0,1.0,1.0,1.0,1.0,1.0,1.0,1.0,1.0,1.0,2.0,1.0,1.0]), [[1.272117E7], [4.1005672E7], [2.1023652E7]]}                                                                                                                                                                                                                                                                                                                                                                                                                                                                               |{81, Jake Brown, 13166 Harris Plain, Port Stephentown, AZ 50780, kennethmccarty@example.net, (641)342-1470, 81, 0, jake brown13166 harri plain, port stephentown, az 50780kennethmccarty@example.net(641)342-1470, [jake, brown13166, harri, plain,, port, stephentown,, az, 50780kennethmccarty@example.net(641)342-1470], jake brown13166 harri plain, port stephentown, az 50780kennethmccarty@example.net(641)342-1470, [j, a, k, e,  , b, r, o, w, n, 1, 3, 1, 6, 6,  , h, a, r, r, i,  , p, l, a, i, n, ,,  , p, o, r, t,  , s, t, e, p, h, e, n, t, o, w, n, ,,  , a, z,  , 5, 0, 7, 8, 0, k, e, n, n, e, t, h, m, c, c, a, r, t, y, @, e, x, a, m, p, l, e, ., n, e, t, (, 6, 4, 1, ), 3, 4, 2, -, 1, 4, 7, 0], [j a, a k, k e, e  ,   b, b r, r o, o w, w n, n 1, 1 3, 3 1, 1 6, 6 6, 6  ,   h, h a, a r, r r, r i, i  ,   p, p l, l a, a i, i n, n ,, ,  ,   p, p o, o r, r t, t  ,   s, s t, t e, e p, p h, h e, e n, n t, t o, o w, w n, n ,, ,  ,   a, a z, z  ,   5, 5 0, 0 7, 7 8, 8 0, 0 k, k e, e n, n n, n e, e t, t h, h m, m c, c c, c a, a r, r t, t y, y @, @ e, e x, x a, a m, m p, p l, l e, e ., . n, n e, e t, t (, ( 6, 6 4, 4 1, 1 ), ) 3, 3 4, 4 2, 2 -, - 1, 1 4, 4 7, 7 0], (262144,[356,5118,5862,9918,10092,10327,21717,24638,25767,27478,38564,44739,46841,58370,60060,64304,71444,73272,74007,75555,77086,77792,78381,80033,80424,85282,85434,89857,89945,92610,101459,101718,103812,104526,107805,113287,113312,113774,121137,123409,125820,134140,134241,135408,142542,147223,148125,148157,153952,161459,162666,164750,177521,178161,182864,184480,187032,188893,190188,199257,203879,204578,207163,208287,222482,223076,223096,223102,228106,231895,232060,235263,236074,242644,244501,246488,249502,251209,252749,253654,259415],[1.0,1.0,1.0,1.0,1.0,1.0,1.0,1.0,1.0,1.0,1.0,2.0,1.0,1.0,1.0,2.0,1.0,2.0,2.0,2.0,1.0,1.0,2.0,1.0,1.0,1.0,1.0,1.0,1.0,1.0,1.0,1.0,1.0,1.0,1.0,1.0,2.0,1.0,1.0,1.0,1.0,1.0,1.0,1.0,1.0,1.0,1.0,1.0,2.0,2.0,1.0,2.0,1.0,1.0,1.0,1.0,1.0,1.0,1.0,1.0,1.0,2.0,1.0,1.0,1.0,1.0,1.0,1.0,1.0,1.0,1.0,1.0,1.0,1.0,1.0,1.0,1.0,1.0,2.0,1.0,1.0]), [[1.272117E7], [4.1005672E7], [2.1023652E7]]}                                                                                                                                                                                                                                                                                                                                                                                                                                                                                  |0.0                 |\n",
      "|{10296, Lawrence Parrish, 6439 Rachael Stravenue Apt. 502, Cheyenneville, NH 79143, michellearellano@example.net, +1-892-859-4643x3086, 66, 0, lawrence parrih6439 rachael stravenue apt. 502, cheyenneville, nh 79143michellearellano@example.net+1-892-859-4643x3086, [lawrence, parrih6439, rachael, stravenue, apt., 502,, cheyenneville,, nh, 79143michellearellano@example.net+1-892-859-4643x3086], lawrence parrih6439 rachael stravenue apt. 502, cheyenneville, nh 79143michellearellano@example.net+1-892-859-4643x3086, [l, a, w, r, e, n, c, e,  , p, a, r, r, i, h, 6, 4, 3, 9,  , r, a, c, h, a, e, l,  , s, t, r, a, v, e, n, u, e,  , a, p, t, .,  , 5, 0, 2, ,,  , c, h, e, y, e, n, n, e, v, i, l, l, e, ,,  , n, h,  , 7, 9, 1, 4, 3, m, i, c, h, e, l, l, e, a, r, e, l, l, a, n, o, @, e, x, a, m, p, l, e, ., n, e, t, +, 1, -, 8, 9, 2, -, 8, 5, 9, -, 4, 6, 4, 3, x, 3, 0, 8, 6], [l a, a w, w r, r e, e n, n c, c e, e  ,   p, p a, a r, r r, r i, i h, h 6, 6 4, 4 3, 3 9, 9  ,   r, r a, a c, c h, h a, a e, e l, l  ,   s, s t, t r, r a, a v, v e, e n, n u, u e, e  ,   a, a p, p t, t ., .  ,   5, 5 0, 0 2, 2 ,, ,  ,   c, c h, h e, e y, y e, e n, n n, n e, e v, v i, i l, l l, l e, e ,, ,  ,   n, n h, h  ,   7, 7 9, 9 1, 1 4, 4 3, 3 m, m i, i c, c h, h e, e l, l l, l e, e a, a r, r e, e l, l l, l a, a n, n o, o @, @ e, e x, x a, a m, m p, p l, l e, e ., . n, n e, e t, t +, + 1, 1 -, - 8, 8 9, 9 2, 2 -, - 8, 8 5, 5 9, 9 -, - 4, 4 6, 6 4, 4 3, 3 x, x 3, 3 0, 0 8, 8 6], (262144,[356,4126,6924,10186,13815,18430,19174,21092,24638,28927,31883,33241,38888,39506,44739,46841,57085,58370,60912,63039,64304,70778,71444,72596,73272,74007,75555,77215,77459,80033,82441,86151,92453,92610,92694,101718,103305,104162,104526,104886,111152,113173,113312,113774,119881,122052,123609,129949,137426,137517,139154,144604,145230,147223,150725,154632,158097,160987,162666,170873,175230,177521,178296,183910,186212,186862,187032,188893,189005,190188,199257,199382,200331,200433,201913,208287,209534,217451,222110,223096,228106,231553,235629,237046,238181,240862,241415,242644,242940,245964,249502,249634,251206,251209,252749,259701],[1.0,1.0,1.0,1.0,1.0,1.0,1.0,2.0,2.0,1.0,1.0,1.0,1.0,1.0,1.0,1.0,1.0,1.0,1.0,1.0,3.0,1.0,1.0,1.0,2.0,1.0,2.0,1.0,1.0,2.0,1.0,1.0,1.0,1.0,1.0,1.0,1.0,1.0,3.0,1.0,1.0,2.0,1.0,1.0,1.0,1.0,1.0,1.0,1.0,3.0,1.0,1.0,1.0,1.0,1.0,1.0,1.0,1.0,2.0,1.0,1.0,1.0,1.0,1.0,1.0,1.0,1.0,1.0,1.0,1.0,1.0,1.0,1.0,3.0,2.0,1.0,1.0,3.0,1.0,1.0,1.0,3.0,1.0,1.0,1.0,1.0,1.0,1.0,1.0,1.0,2.0,1.0,1.0,1.0,2.0,1.0]), [[2.9053971E7], [1.6597494E7], [3.8837262E7]]}|{10298, Lawrence Parrish, 6439 Rachael Stravenue Apt. 502, Cheyenneville, NH 79143, michellearellano@example.net, +1-892-859-4643x3086, 66, 0, lawrence parrih6439 rachael stravenue apt. 502, cheyenneville, nh 79143michellearellano@example.net+1-892-859-4643x3086, [lawrence, parrih6439, rachael, stravenue, apt., 502,, cheyenneville,, nh, 79143michellearellano@example.net+1-892-859-4643x3086], lawrence parrih6439 rachael stravenue apt. 502, cheyenneville, nh 79143michellearellano@example.net+1-892-859-4643x3086, [l, a, w, r, e, n, c, e,  , p, a, r, r, i, h, 6, 4, 3, 9,  , r, a, c, h, a, e, l,  , s, t, r, a, v, e, n, u, e,  , a, p, t, .,  , 5, 0, 2, ,,  , c, h, e, y, e, n, n, e, v, i, l, l, e, ,,  , n, h,  , 7, 9, 1, 4, 3, m, i, c, h, e, l, l, e, a, r, e, l, l, a, n, o, @, e, x, a, m, p, l, e, ., n, e, t, +, 1, -, 8, 9, 2, -, 8, 5, 9, -, 4, 6, 4, 3, x, 3, 0, 8, 6], [l a, a w, w r, r e, e n, n c, c e, e  ,   p, p a, a r, r r, r i, i h, h 6, 6 4, 4 3, 3 9, 9  ,   r, r a, a c, c h, h a, a e, e l, l  ,   s, s t, t r, r a, a v, v e, e n, n u, u e, e  ,   a, a p, p t, t ., .  ,   5, 5 0, 0 2, 2 ,, ,  ,   c, c h, h e, e y, y e, e n, n n, n e, e v, v i, i l, l l, l e, e ,, ,  ,   n, n h, h  ,   7, 7 9, 9 1, 1 4, 4 3, 3 m, m i, i c, c h, h e, e l, l l, l e, e a, a r, r e, e l, l l, l a, a n, n o, o @, @ e, e x, x a, a m, m p, p l, l e, e ., . n, n e, e t, t +, + 1, 1 -, - 8, 8 9, 9 2, 2 -, - 8, 8 5, 5 9, 9 -, - 4, 4 6, 6 4, 4 3, 3 x, x 3, 3 0, 0 8, 8 6], (262144,[356,4126,6924,10186,13815,18430,19174,21092,24638,28927,31883,33241,38888,39506,44739,46841,57085,58370,60912,63039,64304,70778,71444,72596,73272,74007,75555,77215,77459,80033,82441,86151,92453,92610,92694,101718,103305,104162,104526,104886,111152,113173,113312,113774,119881,122052,123609,129949,137426,137517,139154,144604,145230,147223,150725,154632,158097,160987,162666,170873,175230,177521,178296,183910,186212,186862,187032,188893,189005,190188,199257,199382,200331,200433,201913,208287,209534,217451,222110,223096,228106,231553,235629,237046,238181,240862,241415,242644,242940,245964,249502,249634,251206,251209,252749,259701],[1.0,1.0,1.0,1.0,1.0,1.0,1.0,2.0,2.0,1.0,1.0,1.0,1.0,1.0,1.0,1.0,1.0,1.0,1.0,1.0,3.0,1.0,1.0,1.0,2.0,1.0,2.0,1.0,1.0,2.0,1.0,1.0,1.0,1.0,1.0,1.0,1.0,1.0,3.0,1.0,1.0,2.0,1.0,1.0,1.0,1.0,1.0,1.0,1.0,3.0,1.0,1.0,1.0,1.0,1.0,1.0,1.0,1.0,2.0,1.0,1.0,1.0,1.0,1.0,1.0,1.0,1.0,1.0,1.0,1.0,1.0,1.0,1.0,3.0,2.0,1.0,1.0,3.0,1.0,1.0,1.0,3.0,1.0,1.0,1.0,1.0,1.0,1.0,1.0,1.0,2.0,1.0,1.0,1.0,2.0,1.0]), [[2.9053971E7], [1.6597494E7], [3.8837262E7]]}|0.0                 |\n",
      "|{20, Victoria Moore, 13760 Angela Cliff Apt. 258, Lake Johnburgh, TX 17773, rebeccadaugherty@example.net, 288-648-0436, 20, 0, victoria moore13760 angela cliff apt. 258, lake johnburgh, tx 17773rebeccadaugherty@example.net288-648-0436, [victoria, moore13760, angela, cliff, apt., 258,, lake, johnburgh,, tx, 17773rebeccadaugherty@example.net288-648-0436], victoria moore13760 angela cliff apt. 258, lake johnburgh, tx 17773rebeccadaugherty@example.net288-648-0436, [v, i, c, t, o, r, i, a,  , m, o, o, r, e, 1, 3, 7, 6, 0,  , a, n, g, e, l, a,  , c, l, i, f, f,  , a, p, t, .,  , 2, 5, 8, ,,  , l, a, k, e,  , j, o, h, n, b, u, r, g, h, ,,  , t, x,  , 1, 7, 7, 7, 3, r, e, b, e, c, c, a, d, a, u, g, h, e, r, t, y, @, e, x, a, m, p, l, e, ., n, e, t, 2, 8, 8, -, 6, 4, 8, -, 0, 4, 3, 6], [v i, i c, c t, t o, o r, r i, i a, a  ,   m, m o, o o, o r, r e, e 1, 1 3, 3 7, 7 6, 6 0, 0  ,   a, a n, n g, g e, e l, l a, a  ,   c, c l, l i, i f, f f, f  ,   a, a p, p t, t ., .  ,   2, 2 5, 5 8, 8 ,, ,  ,   l, l a, a k, k e, e  ,   j, j o, o h, h n, n b, b u, u r, r g, g h, h ,, ,  ,   t, t x, x  ,   1, 1 7, 7 7, 7 7, 7 3, 3 r, r e, e b, b e, e c, c c, c a, a d, d a, a u, u g, g h, h e, e r, r t, t y, y @, @ e, e x, x a, a m, m p, p l, l e, e ., . n, n e, e t, t 2, 2 8, 8 8, 8 -, - 6, 6 4, 4 8, 8 -, - 0, 0 4, 4 3, 3 6], (262144,[356,922,5118,5422,6202,24638,27199,31883,40652,44480,44739,47480,54492,55316,61924,63039,63587,66095,68648,69964,70572,71444,72497,72877,73081,73272,74047,75339,77683,78381,79975,80033,86151,89857,91921,101718,104526,105493,113312,113774,114358,114508,117632,120387,123967,125820,133724,134140,134241,134655,135408,142542,145703,150725,150846,153952,157106,158097,162666,163490,163642,164918,167178,168923,170557,172418,177521,181295,186212,187032,191013,192188,199161,199257,199935,200433,201913,203930,205194,206861,208287,208873,210804,211326,214135,217451,219748,221473,222482,223096,227529,232897,240862,242940,249502,252749,259429],[1.0,2.0,1.0,1.0,1.0,1.0,1.0,1.0,1.0,1.0,1.0,1.0,1.0,2.0,1.0,1.0,1.0,1.0,1.0,1.0,1.0,1.0,1.0,1.0,1.0,1.0,1.0,1.0,1.0,1.0,1.0,1.0,1.0,1.0,2.0,2.0,1.0,1.0,1.0,1.0,2.0,1.0,1.0,1.0,1.0,1.0,1.0,1.0,1.0,1.0,2.0,1.0,1.0,1.0,1.0,1.0,1.0,1.0,2.0,1.0,1.0,1.0,1.0,1.0,1.0,1.0,1.0,1.0,1.0,1.0,1.0,1.0,1.0,1.0,1.0,1.0,2.0,1.0,1.0,1.0,1.0,1.0,1.0,1.0,1.0,1.0,1.0,1.0,1.0,1.0,1.0,1.0,1.0,1.0,1.0,2.0,1.0]), [[3.3921917E7], [4.1005672E7], [1.7167098E7]]}                                                                                                                                           |{10158, Moore, Victoria, 13760 Angela Cliff Apt. 258, Lake Johnburgh, TX 17773, rebeccadaugherty@example.net, 288-648-0436, 20, 1, moore, victoria13760 angela cliff apt. 258, lake johnburgh, tx 17773rebeccadaugherty@example.net288-648-0436, [moore,, victoria13760, angela, cliff, apt., 258,, lake, johnburgh,, tx, 17773rebeccadaugherty@example.net288-648-0436], moore, victoria13760 angela cliff apt. 258, lake johnburgh, tx 17773rebeccadaugherty@example.net288-648-0436, [m, o, o, r, e, ,,  , v, i, c, t, o, r, i, a, 1, 3, 7, 6, 0,  , a, n, g, e, l, a,  , c, l, i, f, f,  , a, p, t, .,  , 2, 5, 8, ,,  , l, a, k, e,  , j, o, h, n, b, u, r, g, h, ,,  , t, x,  , 1, 7, 7, 7, 3, r, e, b, e, c, c, a, d, a, u, g, h, e, r, t, y, @, e, x, a, m, p, l, e, ., n, e, t, 2, 8, 8, -, 6, 4, 8, -, 0, 4, 3, 6], [m o, o o, o r, r e, e ,, ,  ,   v, v i, i c, c t, t o, o r, r i, i a, a 1, 1 3, 3 7, 7 6, 6 0, 0  ,   a, a n, n g, g e, e l, l a, a  ,   c, c l, l i, i f, f f, f  ,   a, a p, p t, t ., .  ,   2, 2 5, 5 8, 8 ,, ,  ,   l, l a, a k, k e, e  ,   j, j o, o h, h n, n b, b u, u r, r g, g h, h ,, ,  ,   t, t x, x  ,   1, 1 7, 7 7, 7 7, 7 3, 3 r, r e, e b, b e, e c, c c, c a, a d, d a, a u, u g, g h, h e, e r, r t, t y, y @, @ e, e x, x a, a m, m p, p l, l e, e ., . n, n e, e t, t 2, 2 8, 8 8, 8 -, - 6, 6 4, 4 8, 8 -, - 0, 0 4, 4 3, 3 6], (262144,[356,922,5118,5422,6202,24638,27199,31883,40652,44480,44739,47480,54492,55316,61924,63039,63587,66095,68648,70572,71444,72497,72877,73081,73272,74047,75339,77683,78381,79975,80033,86151,89857,91921,101718,104526,105493,113312,113774,114358,114508,117632,120387,123967,125820,133724,134140,134241,134655,135408,142542,145703,150725,150846,153952,157106,158097,162648,162666,163490,163642,164918,167178,168923,170557,172418,177521,181295,186212,186523,187032,191013,192188,199161,199257,199935,200433,201913,203930,205194,206861,208287,208873,210804,211326,214135,217451,219748,222482,223096,227529,232897,240862,241415,242940,249502,252749,259429],[1.0,2.0,1.0,1.0,1.0,1.0,1.0,1.0,1.0,1.0,1.0,1.0,1.0,1.0,1.0,1.0,1.0,1.0,1.0,1.0,1.0,1.0,1.0,1.0,1.0,1.0,1.0,1.0,1.0,1.0,1.0,1.0,1.0,2.0,2.0,1.0,1.0,1.0,1.0,2.0,1.0,1.0,1.0,1.0,1.0,1.0,1.0,1.0,1.0,2.0,1.0,1.0,1.0,1.0,1.0,1.0,1.0,1.0,2.0,1.0,1.0,1.0,1.0,1.0,1.0,1.0,1.0,1.0,1.0,1.0,1.0,1.0,1.0,1.0,1.0,1.0,1.0,2.0,1.0,1.0,1.0,1.0,1.0,1.0,1.0,1.0,1.0,1.0,1.0,1.0,1.0,1.0,1.0,1.0,1.0,1.0,3.0,1.0]), [[3.3921917E7], [4.1005672E7], [2.9110611E7]]}                                                                                                                |0.050000000000000044|\n",
      "|{10119, Lori Frazier, USNS Johnson, FPO AA 28000, stephanie99@example.com, 001-956-560-0036x84809, 7, 0, lori frazierusns johnon, fpo aa 28000tephanie99@example.com001-956-560-0036x84809, [lori, frazierusns, johnon,, fpo, aa, 28000tephanie99@example.com001-956-560-0036x84809], lori frazierusns johnon, fpo aa 28000tephanie99@example.com001-956-560-0036x84809, [l, o, r, i,  , f, r, a, z, i, e, r, u, s, n, s,  , j, o, h, n, o, n, ,,  , f, p, o,  , a, a,  , 2, 8, 0, 0, 0, t, e, p, h, a, n, i, e, 9, 9, @, e, x, a, m, p, l, e, ., c, o, m, 0, 0, 1, -, 9, 5, 6, -, 5, 6, 0, -, 0, 0, 3, 6, x, 8, 4, 8, 0, 9], [l o, o r, r i, i  ,   f, f r, r a, a z, z i, i e, e r, r u, u s, s n, n s, s  ,   j, j o, o h, h n, n o, o n, n ,, ,  ,   f, f p, p o, o  ,   a, a a, a  ,   2, 2 8, 8 0, 0 0, 0 0, 0 t, t e, e p, p h, h a, a n, n i, i e, e 9, 9 9, 9 @, @ e, e x, x a, a m, m p, p l, l e, e ., . c, c o, o m, m 0, 0 0, 0 1, 1 -, - 9, 9 5, 5 6, 6 -, - 5, 5 6, 6 0, 0 -, - 0, 0 0, 0 3, 3 6, 6 x, x 8, 8 4, 4 8, 8 0, 0 9], (262144,[356,5534,9314,9918,10327,21092,21669,27199,31433,33839,34725,38564,42460,43700,44480,44739,45134,51729,54492,55097,55316,57892,63587,73081,77792,81102,85434,86151,90212,90383,93843,101718,104526,108145,113030,113774,117632,118706,120387,122052,127511,131922,135408,150490,154632,157571,162007,163490,163640,164750,167178,173657,177521,178161,183964,184617,187032,188893,189596,197405,199257,202727,203930,206861,208287,219407,220331,221039,223096,223411,235263,252749,257059],[1.0,1.0,1.0,1.0,1.0,1.0,1.0,1.0,1.0,1.0,1.0,1.0,1.0,1.0,1.0,1.0,1.0,1.0,1.0,1.0,1.0,1.0,1.0,1.0,1.0,1.0,2.0,1.0,1.0,1.0,1.0,1.0,1.0,2.0,1.0,1.0,1.0,4.0,1.0,1.0,1.0,1.0,1.0,1.0,1.0,1.0,2.0,1.0,1.0,1.0,1.0,1.0,1.0,1.0,1.0,1.0,1.0,1.0,1.0,1.0,1.0,1.0,1.0,1.0,1.0,1.0,1.0,1.0,1.0,1.0,1.0,1.0,2.0]), [[2.9053971E7], [5.2471788E7], [2.1023652E7]]}                                                                                                                                                                                                                                                                                                                                                                                                                                                                                                                                                                                                                                                                                                                                     |{10120, Lori Frazier, USNS Johnson, FPO AA 28000, stephanie99@example.com, 001-956-560-0036x84809, 7, 0, lori frazierusns johnon, fpo aa 28000tephanie99@example.com001-956-560-0036x84809, [lori, frazierusns, johnon,, fpo, aa, 28000tephanie99@example.com001-956-560-0036x84809], lori frazierusns johnon, fpo aa 28000tephanie99@example.com001-956-560-0036x84809, [l, o, r, i,  , f, r, a, z, i, e, r, u, s, n, s,  , j, o, h, n, o, n, ,,  , f, p, o,  , a, a,  , 2, 8, 0, 0, 0, t, e, p, h, a, n, i, e, 9, 9, @, e, x, a, m, p, l, e, ., c, o, m, 0, 0, 1, -, 9, 5, 6, -, 5, 6, 0, -, 0, 0, 3, 6, x, 8, 4, 8, 0, 9], [l o, o r, r i, i  ,   f, f r, r a, a z, z i, i e, e r, r u, u s, s n, n s, s  ,   j, j o, o h, h n, n o, o n, n ,, ,  ,   f, f p, p o, o  ,   a, a a, a  ,   2, 2 8, 8 0, 0 0, 0 0, 0 t, t e, e p, p h, h a, a n, n i, i e, e 9, 9 9, 9 @, @ e, e x, x a, a m, m p, p l, l e, e ., . c, c o, o m, m 0, 0 0, 0 1, 1 -, - 9, 9 5, 5 6, 6 -, - 5, 5 6, 6 0, 0 -, - 0, 0 0, 0 3, 3 6, 6 x, x 8, 8 4, 4 8, 8 0, 0 9], (262144,[356,5534,9314,9918,10327,21092,21669,27199,31433,33839,34725,38564,42460,43700,44480,44739,45134,51729,54492,55097,55316,57892,63587,73081,77792,81102,85434,86151,90212,90383,93843,101718,104526,108145,113030,113774,117632,118706,120387,122052,127511,131922,135408,150490,154632,157571,162007,163490,163640,164750,167178,173657,177521,178161,183964,184617,187032,188893,189596,197405,199257,202727,203930,206861,208287,219407,220331,221039,223096,223411,235263,252749,257059],[1.0,1.0,1.0,1.0,1.0,1.0,1.0,1.0,1.0,1.0,1.0,1.0,1.0,1.0,1.0,1.0,1.0,1.0,1.0,1.0,1.0,1.0,1.0,1.0,1.0,1.0,2.0,1.0,1.0,1.0,1.0,1.0,1.0,2.0,1.0,1.0,1.0,4.0,1.0,1.0,1.0,1.0,1.0,1.0,1.0,1.0,2.0,1.0,1.0,1.0,1.0,1.0,1.0,1.0,1.0,1.0,1.0,1.0,1.0,1.0,1.0,1.0,1.0,1.0,1.0,1.0,1.0,1.0,1.0,1.0,1.0,1.0,2.0]), [[2.9053971E7], [5.2471788E7], [2.1023652E7]]}                                                                                                                                                                                                                                                                                                                                                                                                                                                                                                                                                                                                                                                                                                                                     |0.0                 |\n",
      "|{63, Benjamin Gray, PSC 3062, Box 8650, APO AP 20780, christophergordon@example.org, 200-581-4430x5921, 63, 0, benjamin graypsc 3062, box 8650, apo ap 20780chritophergordon@example.org200-581-4430x5921, [benjamin, graypsc, 3062,, box, 8650,, apo, ap, 20780chritophergordon@example.org200-581-4430x5921], benjamin graypsc 3062, box 8650, apo ap 20780chritophergordon@example.org200-581-4430x5921, [b, e, n, j, a, m, i, n,  , g, r, a, y, p, s, c,  , 3, 0, 6, 2, ,,  , b, o, x,  , 8, 6, 5, 0, ,,  , a, p, o,  , a, p,  , 2, 0, 7, 8, 0, c, h, r, i, t, o, p, h, e, r, g, o, r, d, o, n, @, e, x, a, m, p, l, e, ., o, r, g, 2, 0, 0, -, 5, 8, 1, -, 4, 4, 3, 0, x, 5, 9, 2, 1], [b e, e n, n j, j a, a m, m i, i n, n  ,   g, g r, r a, a y, y p, p s, s c, c  ,   3, 3 0, 0 6, 6 2, 2 ,, ,  ,   b, b o, o x, x  ,   8, 8 6, 6 5, 5 0, 0 ,, ,  ,   a, a p, p o, o  ,   a, a p, p  ,   2, 2 0, 0 7, 7 8, 8 0, 0 c, c h, h r, r i, i t, t o, o p, p h, h e, e r, r g, g o, o r, r d, d o, o n, n @, @ e, e x, x a, a m, m p, p l, l e, e ., . o, o r, r g, g 2, 2 0, 0 0, 0 -, - 5, 5 8, 8 1, 1 -, - 4, 4 4, 4 3, 3 0, 0 x, x 5, 5 9, 9 2, 2 1], (262144,[356,2045,4497,6990,13815,18430,21092,21968,23165,24293,24638,30897,33241,38186,38564,40652,44739,45134,48420,64304,66095,70778,77086,78978,81102,81991,82441,85434,92694,101459,101718,104526,104886,106676,107208,107805,108489,113774,116799,118041,118706,120387,122052,134140,135408,137517,139926,144916,145135,146971,150725,156292,160483,165719,167178,167682,169125,172693,173657,177521,186096,187032,191479,195431,199161,199257,208221,208287,217451,219407,221023,223096,227529,231987,233157,235263,242644,244501,252749,253654,255276],[2.0,1.0,1.0,1.0,1.0,1.0,1.0,1.0,1.0,1.0,1.0,1.0,1.0,1.0,1.0,2.0,1.0,1.0,1.0,1.0,1.0,1.0,1.0,1.0,1.0,1.0,1.0,1.0,1.0,1.0,2.0,1.0,2.0,1.0,1.0,1.0,1.0,1.0,1.0,1.0,1.0,1.0,1.0,1.0,2.0,1.0,1.0,1.0,1.0,1.0,2.0,1.0,1.0,1.0,1.0,1.0,2.0,1.0,1.0,1.0,1.0,1.0,1.0,1.0,1.0,1.0,1.0,1.0,1.0,1.0,1.0,1.0,1.0,1.0,1.0,1.0,1.0,1.0,2.0,1.0,1.0]), [[1.272117E7], [4.1005672E7], [9.3253891E7]]}                                                                                                                                                                                                                                                                                                                                                                                                                                                                                                                                 |{10288, Benjamin Gray, PSC 3062, Box 8650, APO AP 20780, christophergordon@example.org, 200-581-4430x5921, 63, 0, benjamin graypsc 3062, box 8650, apo ap 20780chritophergordon@example.org200-581-4430x5921, [benjamin, graypsc, 3062,, box, 8650,, apo, ap, 20780chritophergordon@example.org200-581-4430x5921], benjamin graypsc 3062, box 8650, apo ap 20780chritophergordon@example.org200-581-4430x5921, [b, e, n, j, a, m, i, n,  , g, r, a, y, p, s, c,  , 3, 0, 6, 2, ,,  , b, o, x,  , 8, 6, 5, 0, ,,  , a, p, o,  , a, p,  , 2, 0, 7, 8, 0, c, h, r, i, t, o, p, h, e, r, g, o, r, d, o, n, @, e, x, a, m, p, l, e, ., o, r, g, 2, 0, 0, -, 5, 8, 1, -, 4, 4, 3, 0, x, 5, 9, 2, 1], [b e, e n, n j, j a, a m, m i, i n, n  ,   g, g r, r a, a y, y p, p s, s c, c  ,   3, 3 0, 0 6, 6 2, 2 ,, ,  ,   b, b o, o x, x  ,   8, 8 6, 6 5, 5 0, 0 ,, ,  ,   a, a p, p o, o  ,   a, a p, p  ,   2, 2 0, 0 7, 7 8, 8 0, 0 c, c h, h r, r i, i t, t o, o p, p h, h e, e r, r g, g o, o r, r d, d o, o n, n @, @ e, e x, x a, a m, m p, p l, l e, e ., . o, o r, r g, g 2, 2 0, 0 0, 0 -, - 5, 5 8, 8 1, 1 -, - 4, 4 4, 4 3, 3 0, 0 x, x 5, 5 9, 9 2, 2 1], (262144,[356,2045,4497,6990,13815,18430,21092,21968,23165,24293,24638,30897,33241,38186,38564,40652,44739,45134,48420,64304,66095,70778,77086,78978,81102,81991,82441,85434,92694,101459,101718,104526,104886,106676,107208,107805,108489,113774,116799,118041,118706,120387,122052,134140,135408,137517,139926,144916,145135,146971,150725,156292,160483,165719,167178,167682,169125,172693,173657,177521,186096,187032,191479,195431,199161,199257,208221,208287,217451,219407,221023,223096,227529,231987,233157,235263,242644,244501,252749,253654,255276],[2.0,1.0,1.0,1.0,1.0,1.0,1.0,1.0,1.0,1.0,1.0,1.0,1.0,1.0,1.0,2.0,1.0,1.0,1.0,1.0,1.0,1.0,1.0,1.0,1.0,1.0,1.0,1.0,1.0,1.0,2.0,1.0,2.0,1.0,1.0,1.0,1.0,1.0,1.0,1.0,1.0,1.0,1.0,1.0,2.0,1.0,1.0,1.0,1.0,1.0,2.0,1.0,1.0,1.0,1.0,1.0,2.0,1.0,1.0,1.0,1.0,1.0,1.0,1.0,1.0,1.0,1.0,1.0,1.0,1.0,1.0,1.0,1.0,1.0,1.0,1.0,1.0,1.0,2.0,1.0,1.0]), [[1.272117E7], [4.1005672E7], [9.3253891E7]]}                                                                                                                                                                                                                                                                                                                                                                                                                                                                                                                              |0.0                 |\n",
      "|{73, James Peck, 12190 Moran Land, Martinezville, TN 19016, xbarry@example.org, 506-539-1210, 73, 0, jame peck12190 moran land, martinezville, tn 19016xbarry@example.org506-539-1210, [jame, peck12190, moran, land,, martinezville,, tn, 19016xbarry@example.org506-539-1210], jame peck12190 moran land, martinezville, tn 19016xbarry@example.org506-539-1210, [j, a, m, e,  , p, e, c, k, 1, 2, 1, 9, 0,  , m, o, r, a, n,  , l, a, n, d, ,,  , m, a, r, t, i, n, e, z, v, i, l, l, e, ,,  , t, n,  , 1, 9, 0, 1, 6, x, b, a, r, r, y, @, e, x, a, m, p, l, e, ., o, r, g, 5, 0, 6, -, 5, 3, 9, -, 1, 2, 1, 0], [j a, a m, m e, e  ,   p, p e, e c, c k, k 1, 1 2, 2 1, 1 9, 9 0, 0  ,   m, m o, o r, r a, a n, n  ,   l, l a, a n, n d, d ,, ,  ,   m, m a, a r, r t, t i, i n, n e, e z, z v, v i, i l, l l, l e, e ,, ,  ,   t, t n, n  ,   1, 1 9, 9 0, 0 1, 1 6, 6 x, x b, b a, a r, r r, r y, y @, @ e, e x, x a, a m, m p, p l, l e, e ., . o, o r, r g, g 5, 5 0, 0 6, 6 -, - 5, 5 3, 3 9, 9 -, - 1, 1 2, 2 1, 1 0], (262144,[356,6990,12512,18671,21092,25042,26879,32718,33076,38888,40652,43968,44739,45134,72039,72497,73272,74007,75555,77086,85528,86151,89857,90383,94639,103495,104526,107805,111400,113774,121137,125288,135408,145135,147223,153952,157106,160941,162408,162666,163642,166491,172418,175230,179603,184957,186212,187032,188288,191479,197405,199257,208287,210804,221473,223076,223096,223411,231216,231553,233157,241415,242644,245964,249502,252749,259429],[2.0,2.0,2.0,1.0,1.0,2.0,1.0,1.0,1.0,1.0,1.0,1.0,1.0,1.0,1.0,1.0,1.0,1.0,2.0,1.0,1.0,2.0,1.0,1.0,1.0,1.0,2.0,1.0,1.0,1.0,1.0,1.0,2.0,1.0,1.0,1.0,1.0,1.0,1.0,1.0,1.0,1.0,1.0,1.0,1.0,1.0,1.0,1.0,1.0,1.0,1.0,1.0,1.0,1.0,2.0,1.0,1.0,1.0,2.0,1.0,2.0,1.0,1.0,1.0,1.0,2.0,1.0]), [[1.272117E7], [6.7147277E7], [2.8209146E7]]}                                                                                                                                                                                                                                                                                                                                                                                                                                                                                                                                                                                                                                                                                                                                                                                                              |{10319, James Peck, 12190 Moran Land, Martinezville, TN 19016, xbarry@example.org, 506-539-1210, 73, 0, jame peck12190 moran land, martinezville, tn 19016xbarry@example.org506-539-1210, [jame, peck12190, moran, land,, martinezville,, tn, 19016xbarry@example.org506-539-1210], jame peck12190 moran land, martinezville, tn 19016xbarry@example.org506-539-1210, [j, a, m, e,  , p, e, c, k, 1, 2, 1, 9, 0,  , m, o, r, a, n,  , l, a, n, d, ,,  , m, a, r, t, i, n, e, z, v, i, l, l, e, ,,  , t, n,  , 1, 9, 0, 1, 6, x, b, a, r, r, y, @, e, x, a, m, p, l, e, ., o, r, g, 5, 0, 6, -, 5, 3, 9, -, 1, 2, 1, 0], [j a, a m, m e, e  ,   p, p e, e c, c k, k 1, 1 2, 2 1, 1 9, 9 0, 0  ,   m, m o, o r, r a, a n, n  ,   l, l a, a n, n d, d ,, ,  ,   m, m a, a r, r t, t i, i n, n e, e z, z v, v i, i l, l l, l e, e ,, ,  ,   t, t n, n  ,   1, 1 9, 9 0, 0 1, 1 6, 6 x, x b, b a, a r, r r, r y, y @, @ e, e x, x a, a m, m p, p l, l e, e ., . o, o r, r g, g 5, 5 0, 0 6, 6 -, - 5, 5 3, 3 9, 9 -, - 1, 1 2, 2 1, 1 0], (262144,[356,6990,12512,18671,21092,25042,26879,32718,33076,38888,40652,43968,44739,45134,72039,72497,73272,74007,75555,77086,85528,86151,89857,90383,94639,103495,104526,107805,111400,113774,121137,125288,135408,145135,147223,153952,157106,160941,162408,162666,163642,166491,172418,175230,179603,184957,186212,187032,188288,191479,197405,199257,208287,210804,221473,223076,223096,223411,231216,231553,233157,241415,242644,245964,249502,252749,259429],[2.0,2.0,2.0,1.0,1.0,2.0,1.0,1.0,1.0,1.0,1.0,1.0,1.0,1.0,1.0,1.0,1.0,1.0,2.0,1.0,1.0,2.0,1.0,1.0,1.0,1.0,2.0,1.0,1.0,1.0,1.0,1.0,2.0,1.0,1.0,1.0,1.0,1.0,1.0,1.0,1.0,1.0,1.0,1.0,1.0,1.0,1.0,1.0,1.0,1.0,1.0,1.0,1.0,1.0,2.0,1.0,1.0,1.0,2.0,1.0,2.0,1.0,1.0,1.0,1.0,2.0,1.0]), [[1.272117E7], [6.7147277E7], [2.8209146E7]]}                                                                                                                                                                                                                                                                                                                                                                                                                                                                                                                                                                                                                                                                                                                                                                                                           |0.0                 |\n",
      "|{88, Andrea Alvarez, 0567 Christina Lock, Davistown, OK 56996, kayleevaughn@example.org, 385.666.2866x788, 88, 0, andrea alvarez0567 chritina lock, davitown, ok 56996kayleevaughn@example.org385.666.2866x788, [andrea, alvarez0567, chritina, lock,, davitown,, ok, 56996kayleevaughn@example.org385.666.2866x788], andrea alvarez0567 chritina lock, davitown, ok 56996kayleevaughn@example.org385.666.2866x788, [a, n, d, r, e, a,  , a, l, v, a, r, e, z, 0, 5, 6, 7,  , c, h, r, i, t, i, n, a,  , l, o, c, k, ,,  , d, a, v, i, t, o, w, n, ,,  , o, k,  , 5, 6, 9, 9, 6, k, a, y, l, e, e, v, a, u, g, h, n, @, e, x, a, m, p, l, e, ., o, r, g, 3, 8, 5, ., 6, 6, 6, ., 2, 8, 6, 6, x, 7, 8, 8], [a n, n d, d r, r e, e a, a  ,   a, a l, l v, v a, a r, r e, e z, z 0, 0 5, 5 6, 6 7, 7  ,   c, c h, h r, r i, i t, t i, i n, n a, a  ,   l, l o, o c, c k, k ,, ,  ,   d, d a, a v, v i, i t, t o, o w, w n, n ,, ,  ,   o, o k, k  ,   5, 5 6, 6 9, 9 9, 9 6, 6 k, k a, a y, y l, l e, e e, e v, v a, a u, u g, g h, h n, n @, @ e, e x, x a, a m, m p, p l, l e, e ., . o, o r, r g, g 3, 3 8, 8 5, 5 ., . 6, 6 6, 6 6, 6 ., . 2, 2 8, 8 6, 6 6, 6 x, x 7, 7 8, 8 8], (262144,[356,3031,4716,9314,10186,21717,24293,26879,28447,30391,32718,33241,40652,43700,44739,47130,47989,49659,55316,61924,62270,63039,75555,77086,78978,79686,83060,85528,86151,86756,91921,101718,104526,108145,113774,114304,125750,131113,132436,134140,135408,137517,140723,145135,147960,148029,161459,163490,164750,167682,168923,172418,172440,177521,180055,183910,184957,186212,187032,197405,199257,201913,203930,204578,205194,208287,209354,209920,214135,223096,229167,231222,231987,237046,237537,237828,250709,251209,252749,253654,258587,259701],[1.0,1.0,1.0,1.0,1.0,3.0,2.0,1.0,1.0,1.0,1.0,1.0,1.0,1.0,1.0,1.0,1.0,1.0,2.0,1.0,1.0,1.0,1.0,1.0,1.0,1.0,2.0,1.0,1.0,1.0,1.0,1.0,2.0,2.0,1.0,1.0,1.0,1.0,1.0,1.0,1.0,1.0,1.0,1.0,1.0,1.0,1.0,1.0,1.0,1.0,1.0,1.0,1.0,1.0,1.0,1.0,1.0,1.0,1.0,1.0,1.0,2.0,1.0,1.0,1.0,1.0,1.0,1.0,1.0,1.0,1.0,1.0,1.0,1.0,1.0,1.0,1.0,1.0,2.0,1.0,1.0,1.0]), [[1.17408477E8], [1.6597494E7], [5096781.0]]}                                                                                                                                                                                                                                                                                                                                                                                                                                                                                                |{10363, dndrea Alvarez, 0567 Christina Lock, Davistown, OK 56996, kayleevaughn@example.org, 385.666.2866x788, 88, 1, dndrea alvarez0567 chritina lock, davitown, ok 56996kayleevaughn@example.org385.666.2866x788, [dndrea, alvarez0567, chritina, lock,, davitown,, ok, 56996kayleevaughn@example.org385.666.2866x788], dndrea alvarez0567 chritina lock, davitown, ok 56996kayleevaughn@example.org385.666.2866x788, [d, n, d, r, e, a,  , a, l, v, a, r, e, z, 0, 5, 6, 7,  , c, h, r, i, t, i, n, a,  , l, o, c, k, ,,  , d, a, v, i, t, o, w, n, ,,  , o, k,  , 5, 6, 9, 9, 6, k, a, y, l, e, e, v, a, u, g, h, n, @, e, x, a, m, p, l, e, ., o, r, g, 3, 8, 5, ., 6, 6, 6, ., 2, 8, 6, 6, x, 7, 8, 8], [d n, n d, d r, r e, e a, a  ,   a, a l, l v, v a, a r, r e, e z, z 0, 0 5, 5 6, 6 7, 7  ,   c, c h, h r, r i, i t, t i, i n, n a, a  ,   l, l o, o c, c k, k ,, ,  ,   d, d a, a v, v i, i t, t o, o w, w n, n ,, ,  ,   o, o k, k  ,   5, 5 6, 6 9, 9 9, 9 6, 6 k, k a, a y, y l, l e, e e, e v, v a, a u, u g, g h, h n, n @, @ e, e x, x a, a m, m p, p l, l e, e ., . o, o r, r g, g 3, 3 8, 8 5, 5 ., . 6, 6 6, 6 6, 6 ., . 2, 2 8, 8 6, 6 6, 6 x, x 7, 7 8, 8 8], (262144,[356,3031,4716,9314,10186,21717,24293,26879,28447,30391,32718,33241,40652,43700,44739,47130,47989,49659,55316,61924,62270,63039,75555,77086,78978,79686,83060,85528,86756,91921,101718,103581,104526,108145,113774,114304,125750,131113,132436,134140,135408,137517,140723,145135,147960,148029,161459,163490,164750,167682,168923,172418,172440,177521,180055,183910,184957,186212,187032,197405,199257,201913,203930,204578,205194,208287,209354,209920,214135,223096,229167,231222,231987,237046,237537,237828,250709,251209,252749,253654,258587,259701],[1.0,1.0,1.0,1.0,1.0,3.0,2.0,1.0,1.0,1.0,1.0,1.0,1.0,1.0,1.0,1.0,1.0,1.0,2.0,1.0,1.0,1.0,1.0,1.0,1.0,1.0,2.0,1.0,1.0,1.0,1.0,1.0,2.0,2.0,1.0,1.0,1.0,1.0,1.0,1.0,1.0,1.0,1.0,1.0,1.0,1.0,1.0,1.0,1.0,1.0,1.0,1.0,1.0,1.0,1.0,1.0,1.0,1.0,1.0,1.0,1.0,2.0,1.0,1.0,1.0,1.0,1.0,1.0,1.0,1.0,1.0,1.0,1.0,1.0,1.0,1.0,1.0,1.0,2.0,1.0,1.0,1.0]), [[1.17408477E8], [1.6597494E7], [5096781.0]]}                                                                                                                                                                                                                                                                                                                                                                                                                                                                                            |0.02409638554216864 |\n",
      "|{10271, Samantha Martinez, 8763 Stevenson Stravenue Apt. 112, East Carolineside, GA 41062, migueldrake@example.net, 4937263504, 57, 0, samantha martinez8763 stevenon stravenue apt. 112, eat carolineide, ga 41062migueldrake@example.net4937263504, [samantha, martinez8763, stevenon, stravenue, apt., 112,, eat, carolineide,, ga, 41062migueldrake@example.net4937263504], samantha martinez8763 stevenon stravenue apt. 112, eat carolineide, ga 41062migueldrake@example.net4937263504, [s, a, m, a, n, t, h, a,  , m, a, r, t, i, n, e, z, 8, 7, 6, 3,  , s, t, e, v, e, n, o, n,  , s, t, r, a, v, e, n, u, e,  , a, p, t, .,  , 1, 1, 2, ,,  , e, a, t,  , c, a, r, o, l, i, n, e, i, d, e, ,,  , g, a,  , 4, 1, 0, 6, 2, m, i, g, u, e, l, d, r, a, k, e, @, e, x, a, m, p, l, e, ., n, e, t, 4, 9, 3, 7, 2, 6, 3, 5, 0, 4], [s a, a m, m a, a n, n t, t h, h a, a  ,   m, m a, a r, r t, t i, i n, n e, e z, z 8, 8 7, 7 6, 6 3, 3  ,   s, s t, t e, e v, v e, e n, n o, o n, n  ,   s, s t, t r, r a, a v, v e, e n, n u, u e, e  ,   a, a p, p t, t ., .  ,   1, 1 1, 1 2, 2 ,, ,  ,   e, e a, a t, t  ,   c, c a, a r, r o, o l, l i, i n, n e, e i, i d, d e, e ,, ,  ,   g, g a, a  ,   4, 4 1, 1 0, 0 6, 6 2, 2 m, m i, i g, g u, u e, e l, l d, d r, r a, a k, k e, e @, @ e, e x, x a, a m, m p, p l, l e, e ., . n, n e, e t, t 4, 4 9, 9 3, 3 7, 7 2, 2 6, 6 3, 3 5, 5 0, 0 4], (262144,[356,845,5118,6234,9918,10186,13815,17936,21092,21968,25042,26879,32718,44739,55316,58370,60514,63039,64304,67287,69528,70717,71444,72104,72596,73272,75555,77086,77604,78381,81497,83197,85282,86151,89945,92610,92694,96906,101500,101718,103305,104526,113312,113774,114508,116799,117459,123967,125820,128502,137706,144100,148157,150725,153952,154632,158097,162408,163642,170873,173657,182864,183910,187032,187103,188288,188893,191479,192188,199257,199935,200433,204000,208287,209534,218715,221473,223096,223102,228049,229660,231222,233157,240862,241415,241873,242644,242940,246123,249502,252650,252749,259701],[2.0,1.0,1.0,1.0,1.0,1.0,1.0,1.0,2.0,1.0,1.0,1.0,1.0,1.0,2.0,2.0,1.0,1.0,2.0,1.0,1.0,1.0,1.0,1.0,2.0,3.0,2.0,2.0,1.0,1.0,1.0,1.0,1.0,1.0,1.0,2.0,1.0,1.0,1.0,1.0,1.0,1.0,1.0,1.0,1.0,1.0,1.0,1.0,1.0,1.0,1.0,2.0,1.0,1.0,1.0,1.0,1.0,1.0,1.0,2.0,1.0,1.0,1.0,1.0,1.0,2.0,1.0,1.0,1.0,1.0,1.0,1.0,1.0,1.0,1.0,1.0,1.0,1.0,1.0,1.0,1.0,1.0,1.0,1.0,1.0,1.0,1.0,1.0,1.0,1.0,1.0,2.0,1.0]), [[3.8810357E7], [1.6597494E7], [4.6689563E7]]}                                                                                                                                                            |{57, Samantha Martinez, 8763 Stevenson Stravenue Apt. 112, East Carolineside, GA 41062, migueldrake@example.net, 4937263504, 57, 0, samantha martinez8763 stevenon stravenue apt. 112, eat carolineide, ga 41062migueldrake@example.net4937263504, [samantha, martinez8763, stevenon, stravenue, apt., 112,, eat, carolineide,, ga, 41062migueldrake@example.net4937263504], samantha martinez8763 stevenon stravenue apt. 112, eat carolineide, ga 41062migueldrake@example.net4937263504, [s, a, m, a, n, t, h, a,  , m, a, r, t, i, n, e, z, 8, 7, 6, 3,  , s, t, e, v, e, n, o, n,  , s, t, r, a, v, e, n, u, e,  , a, p, t, .,  , 1, 1, 2, ,,  , e, a, t,  , c, a, r, o, l, i, n, e, i, d, e, ,,  , g, a,  , 4, 1, 0, 6, 2, m, i, g, u, e, l, d, r, a, k, e, @, e, x, a, m, p, l, e, ., n, e, t, 4, 9, 3, 7, 2, 6, 3, 5, 0, 4], [s a, a m, m a, a n, n t, t h, h a, a  ,   m, m a, a r, r t, t i, i n, n e, e z, z 8, 8 7, 7 6, 6 3, 3  ,   s, s t, t e, e v, v e, e n, n o, o n, n  ,   s, s t, t r, r a, a v, v e, e n, n u, u e, e  ,   a, a p, p t, t ., .  ,   1, 1 1, 1 2, 2 ,, ,  ,   e, e a, a t, t  ,   c, c a, a r, r o, o l, l i, i n, n e, e i, i d, d e, e ,, ,  ,   g, g a, a  ,   4, 4 1, 1 0, 0 6, 6 2, 2 m, m i, i g, g u, u e, e l, l d, d r, r a, a k, k e, e @, @ e, e x, x a, a m, m p, p l, l e, e ., . n, n e, e t, t 4, 4 9, 9 3, 3 7, 7 2, 2 6, 6 3, 3 5, 5 0, 0 4], (262144,[356,845,5118,6234,9918,10186,13815,17936,21092,21968,25042,26879,32718,44739,55316,58370,60514,63039,64304,67287,69528,70717,71444,72104,72596,73272,75555,77086,77604,78381,81497,83197,85282,86151,89945,92610,92694,96906,101500,101718,103305,104526,113312,113774,114508,116799,117459,123967,125820,128502,137706,144100,148157,150725,153952,154632,158097,162408,163642,170873,173657,182864,183910,187032,187103,188288,188893,191479,192188,199257,199935,200433,204000,208287,209534,218715,221473,223096,223102,228049,229660,231222,233157,240862,241415,241873,242644,242940,246123,249502,252650,252749,259701],[2.0,1.0,1.0,1.0,1.0,1.0,1.0,1.0,2.0,1.0,1.0,1.0,1.0,1.0,2.0,2.0,1.0,1.0,2.0,1.0,1.0,1.0,1.0,1.0,2.0,3.0,2.0,2.0,1.0,1.0,1.0,1.0,1.0,1.0,1.0,2.0,1.0,1.0,1.0,1.0,1.0,1.0,1.0,1.0,1.0,1.0,1.0,1.0,1.0,1.0,1.0,2.0,1.0,1.0,1.0,1.0,1.0,1.0,1.0,2.0,1.0,1.0,1.0,1.0,1.0,2.0,1.0,1.0,1.0,1.0,1.0,1.0,1.0,1.0,1.0,1.0,1.0,1.0,1.0,1.0,1.0,1.0,1.0,1.0,1.0,1.0,1.0,1.0,1.0,1.0,1.0,2.0,1.0]), [[3.8810357E7], [1.6597494E7], [4.6689563E7]]}                                                                                                                                                               |0.0                 |\n",
      "|{10124, Megan Crane, 932 Perry Plains Apt. 967, West Adamburgh, SD 16980, williamsclaudia@example.net, (232)494-3602x51594, 8, 1, megan crane932 perry plain apt. 967, et adamburgh, sd 16980williamclaudia@example.net(232)494-3602x51594, [megan, crane932, perry, plain, apt., 967,, et, adamburgh,, sd, 16980williamclaudia@example.net(232)494-3602x51594], megan crane932 perry plain apt. 967, et adamburgh, sd 16980williamclaudia@example.net(232)494-3602x51594, [m, e, g, a, n,  , c, r, a, n, e, 9, 3, 2,  , p, e, r, r, y,  , p, l, a, i, n,  , a, p, t, .,  , 9, 6, 7, ,,  , e, t,  , a, d, a, m, b, u, r, g, h, ,,  , s, d,  , 1, 6, 9, 8, 0, w, i, l, l, i, a, m, c, l, a, u, d, i, a, @, e, x, a, m, p, l, e, ., n, e, t, (, 2, 3, 2, ), 4, 9, 4, -, 3, 6, 0, 2, x, 5, 1, 5, 9, 4], [m e, e g, g a, a n, n  ,   c, c r, r a, a n, n e, e 9, 9 3, 3 2, 2  ,   p, p e, e r, r r, r y, y  ,   p, p l, l a, a i, i n, n  ,   a, a p, p t, t ., .  ,   9, 9 6, 6 7, 7 ,, ,  ,   e, e t, t  ,   a, a d, d a, a m, m b, b u, u r, r g, g h, h ,, ,  ,   s, s d, d  ,   1, 1 6, 6 9, 9 8, 8 0, 0 w, w i, i l, l l, l i, i a, a m, m c, c l, l a, a u, u d, d i, i a, a @, @ e, e x, x a, a m, m p, p l, l e, e ., . n, n e, e t, t (, ( 2, 2 3, 3 2, 2 ), ) 4, 4 9, 9 4, 4 -, - 3, 3 6, 6 0, 0 2, 2 x, x 5, 5 1, 1 5, 5 9, 9 4], (262144,[356,845,3830,11879,21092,22388,23701,28945,40652,44480,44739,46493,47130,61924,63039,67287,70572,70778,71444,72039,73272,74007,75339,77086,77604,80424,83895,85282,85434,86151,86301,88967,90830,91921,92610,94900,101718,104526,109014,111400,113312,113774,115210,117632,120387,121137,123967,125750,137706,145703,146550,147223,150725,158097,160590,162666,163640,163642,168142,170557,172693,175230,176284,176821,179603,183846,183908,185272,187032,189070,199257,208287,208560,214135,219748,223096,230033,231553,232897,233157,237537,238181,240862,242224,242940,244179,246488,252749,259415],[3.0,1.0,1.0,2.0,1.0,1.0,1.0,1.0,1.0,1.0,2.0,1.0,1.0,1.0,1.0,1.0,2.0,1.0,1.0,1.0,2.0,2.0,1.0,1.0,1.0,1.0,1.0,1.0,1.0,2.0,1.0,1.0,1.0,1.0,1.0,1.0,2.0,1.0,1.0,1.0,2.0,1.0,1.0,1.0,1.0,1.0,1.0,1.0,1.0,1.0,1.0,1.0,1.0,1.0,1.0,2.0,1.0,1.0,1.0,1.0,1.0,1.0,1.0,1.0,1.0,1.0,2.0,1.0,1.0,1.0,1.0,1.0,1.0,1.0,1.0,1.0,1.0,1.0,1.0,2.0,1.0,1.0,1.0,1.0,1.0,1.0,1.0,2.0,1.0]), [[2.7038341E7], [5.8187263E7], [3.8343168E7]]}                                                                                                                                                                                                                                                                |{10123, Megan Crane, 932 Perry Plains Apt. 967, West Adamburgh, SD 16980, williamsclaudia@example.net, (212)494-3602x51594, 8, 0, megan crane932 perry plain apt. 967, et adamburgh, sd 16980williamclaudia@example.net(212)494-3602x51594, [megan, crane932, perry, plain, apt., 967,, et, adamburgh,, sd, 16980williamclaudia@example.net(212)494-3602x51594], megan crane932 perry plain apt. 967, et adamburgh, sd 16980williamclaudia@example.net(212)494-3602x51594, [m, e, g, a, n,  , c, r, a, n, e, 9, 3, 2,  , p, e, r, r, y,  , p, l, a, i, n,  , a, p, t, .,  , 9, 6, 7, ,,  , e, t,  , a, d, a, m, b, u, r, g, h, ,,  , s, d,  , 1, 6, 9, 8, 0, w, i, l, l, i, a, m, c, l, a, u, d, i, a, @, e, x, a, m, p, l, e, ., n, e, t, (, 2, 1, 2, ), 4, 9, 4, -, 3, 6, 0, 2, x, 5, 1, 5, 9, 4], [m e, e g, g a, a n, n  ,   c, c r, r a, a n, n e, e 9, 9 3, 3 2, 2  ,   p, p e, e r, r r, r y, y  ,   p, p l, l a, a i, i n, n  ,   a, a p, p t, t ., .  ,   9, 9 6, 6 7, 7 ,, ,  ,   e, e t, t  ,   a, a d, d a, a m, m b, b u, u r, r g, g h, h ,, ,  ,   s, s d, d  ,   1, 1 6, 6 9, 9 8, 8 0, 0 w, w i, i l, l l, l i, i a, a m, m c, c l, l a, a u, u d, d i, i a, a @, @ e, e x, x a, a m, m p, p l, l e, e ., . n, n e, e t, t (, ( 2, 2 1, 1 2, 2 ), ) 4, 4 9, 9 4, 4 -, - 3, 3 6, 6 0, 0 2, 2 x, x 5, 5 1, 1 5, 5 9, 9 4], (262144,[356,845,3830,6990,11879,21092,22388,23701,25042,28945,40652,44480,44739,46493,47130,61924,63039,67287,70572,70778,71444,72039,73272,74007,75339,77086,77604,80424,83895,85282,85434,86151,88967,90830,91921,92610,94900,101718,104526,109014,111400,113312,113774,115210,117632,120387,121137,123967,125750,137706,145703,146550,147223,150725,158097,160590,162666,163640,163642,168142,170557,172693,175230,176284,176821,179603,183846,183908,185272,187032,189070,199257,208287,208560,214135,219748,223096,230033,231553,232897,233157,237537,238181,240862,242224,242940,244179,246488,252749,259415],[3.0,1.0,1.0,1.0,2.0,1.0,1.0,1.0,1.0,1.0,1.0,1.0,2.0,1.0,1.0,1.0,1.0,1.0,2.0,1.0,1.0,1.0,2.0,2.0,1.0,1.0,1.0,1.0,1.0,1.0,1.0,2.0,1.0,1.0,1.0,1.0,1.0,2.0,1.0,1.0,1.0,2.0,1.0,1.0,1.0,1.0,1.0,1.0,1.0,1.0,1.0,1.0,1.0,1.0,1.0,1.0,2.0,1.0,1.0,1.0,1.0,1.0,1.0,1.0,1.0,1.0,1.0,1.0,1.0,1.0,1.0,1.0,1.0,1.0,1.0,1.0,1.0,1.0,1.0,1.0,2.0,1.0,1.0,1.0,1.0,1.0,1.0,1.0,2.0,1.0]), [[2.7038341E7], [5.8187263E7], [3.8343168E7]]}                                                                                                                                                                                                                                                       |0.03296703296703296 |\n",
      "|{10307, Joshua Clark, 1562 Rachael Lakes Apt. 934, New Virginia, CO 22531, lanecurtis@example.org, 369-741-9973, 69, 0, johua clark1562 rachael lake apt. 934, new virginia, co 22531lanecurti@example.org369-741-9973, [johua, clark1562, rachael, lake, apt., 934,, new, virginia,, co, 22531lanecurti@example.org369-741-9973], johua clark1562 rachael lake apt. 934, new virginia, co 22531lanecurti@example.org369-741-9973, [j, o, h, u, a,  , c, l, a, r, k, 1, 5, 6, 2,  , r, a, c, h, a, e, l,  , l, a, k, e,  , a, p, t, .,  , 9, 3, 4, ,,  , n, e, w,  , v, i, r, g, i, n, i, a, ,,  , c, o,  , 2, 2, 5, 3, 1, l, a, n, e, c, u, r, t, i, @, e, x, a, m, p, l, e, ., o, r, g, 3, 6, 9, -, 7, 4, 1, -, 9, 9, 7, 3], [j o, o h, h u, u a, a  ,   c, c l, l a, a r, r k, k 1, 1 5, 5 6, 6 2, 2  ,   r, r a, a c, c h, h a, a e, e l, l  ,   l, l a, a k, k e, e  ,   a, a p, p t, t ., .  ,   9, 9 3, 3 4, 4 ,, ,  ,   n, n e, e w, w  ,   v, v i, i r, r g, g i, i n, n i, i a, a ,, ,  ,   c, c o, o  ,   2, 2 2, 2 5, 5 3, 3 1, 1 l, l a, a n, n e, e c, c u, u r, r t, t i, i @, @ e, e x, x a, a m, m p, p l, l e, e ., . o, o r, r g, g 3, 3 6, 6 9, 9 -, - 7, 7 4, 4 1, 1 -, - 9, 9 9, 9 7, 7 3], (262144,[356,845,3830,6924,9314,19174,21092,23701,32718,40652,44480,44739,47130,55316,60060,63039,63587,65360,69256,70572,73081,73272,73856,75339,75555,77086,77683,78381,79686,81102,86151,88967,89945,94639,101718,104526,108145,111152,112123,113287,113774,114172,116799,122052,125288,125820,125971,134363,135408,136516,137517,145135,145703,150725,153952,158097,158802,162648,162666,164918,167178,172418,178296,179437,184617,186212,187032,188893,199257,200433,202499,202949,208287,220331,221039,222110,223096,239682,240862,242940,245964,249502,252749,256208,258329,258402,259429],[1.0,1.0,1.0,1.0,1.0,1.0,1.0,1.0,1.0,2.0,1.0,1.0,1.0,1.0,1.0,2.0,1.0,1.0,1.0,1.0,1.0,2.0,1.0,1.0,1.0,1.0,1.0,1.0,1.0,1.0,1.0,1.0,1.0,1.0,1.0,1.0,1.0,1.0,1.0,1.0,1.0,1.0,1.0,1.0,1.0,1.0,1.0,1.0,1.0,1.0,1.0,1.0,1.0,1.0,1.0,1.0,1.0,1.0,3.0,1.0,1.0,1.0,1.0,1.0,1.0,1.0,1.0,1.0,1.0,1.0,1.0,1.0,1.0,1.0,1.0,1.0,1.0,1.0,1.0,1.0,1.0,1.0,2.0,1.0,1.0,1.0,1.0]), [[4547468.0], [5.2471788E7], [7.9154728E7]]}                                                                                                                                                                                                                                                                                                                                                                                                                |{69, Joshua Clark, 1562 Rachael Lakes Apt. 934, New Virginia, CO 22531, lanecurtis@example.org, 369-741-9973, 69, 0, johua clark1562 rachael lake apt. 934, new virginia, co 22531lanecurti@example.org369-741-9973, [johua, clark1562, rachael, lake, apt., 934,, new, virginia,, co, 22531lanecurti@example.org369-741-9973], johua clark1562 rachael lake apt. 934, new virginia, co 22531lanecurti@example.org369-741-9973, [j, o, h, u, a,  , c, l, a, r, k, 1, 5, 6, 2,  , r, a, c, h, a, e, l,  , l, a, k, e,  , a, p, t, .,  , 9, 3, 4, ,,  , n, e, w,  , v, i, r, g, i, n, i, a, ,,  , c, o,  , 2, 2, 5, 3, 1, l, a, n, e, c, u, r, t, i, @, e, x, a, m, p, l, e, ., o, r, g, 3, 6, 9, -, 7, 4, 1, -, 9, 9, 7, 3], [j o, o h, h u, u a, a  ,   c, c l, l a, a r, r k, k 1, 1 5, 5 6, 6 2, 2  ,   r, r a, a c, c h, h a, a e, e l, l  ,   l, l a, a k, k e, e  ,   a, a p, p t, t ., .  ,   9, 9 3, 3 4, 4 ,, ,  ,   n, n e, e w, w  ,   v, v i, i r, r g, g i, i n, n i, i a, a ,, ,  ,   c, c o, o  ,   2, 2 2, 2 5, 5 3, 3 1, 1 l, l a, a n, n e, e c, c u, u r, r t, t i, i @, @ e, e x, x a, a m, m p, p l, l e, e ., . o, o r, r g, g 3, 3 6, 6 9, 9 -, - 7, 7 4, 4 1, 1 -, - 9, 9 9, 9 7, 7 3], (262144,[356,845,3830,6924,9314,19174,21092,23701,32718,40652,44480,44739,47130,55316,60060,63039,63587,65360,69256,70572,73081,73272,73856,75339,75555,77086,77683,78381,79686,81102,86151,88967,89945,94639,101718,104526,108145,111152,112123,113287,113774,114172,116799,122052,125288,125820,125971,134363,135408,136516,137517,145135,145703,150725,153952,158097,158802,162648,162666,164918,167178,172418,178296,179437,184617,186212,187032,188893,199257,200433,202499,202949,208287,220331,221039,222110,223096,239682,240862,242940,245964,249502,252749,256208,258329,258402,259429],[1.0,1.0,1.0,1.0,1.0,1.0,1.0,1.0,1.0,2.0,1.0,1.0,1.0,1.0,1.0,2.0,1.0,1.0,1.0,1.0,1.0,2.0,1.0,1.0,1.0,1.0,1.0,1.0,1.0,1.0,1.0,1.0,1.0,1.0,1.0,1.0,1.0,1.0,1.0,1.0,1.0,1.0,1.0,1.0,1.0,1.0,1.0,1.0,1.0,1.0,1.0,1.0,1.0,1.0,1.0,1.0,1.0,1.0,3.0,1.0,1.0,1.0,1.0,1.0,1.0,1.0,1.0,1.0,1.0,1.0,1.0,1.0,1.0,1.0,1.0,1.0,1.0,1.0,1.0,1.0,1.0,1.0,2.0,1.0,1.0,1.0,1.0]), [[4547468.0], [5.2471788E7], [7.9154728E7]]}                                                                                                                                                                                                                                                                                                                                                                                                                   |0.0                 |\n",
      "|{74, Audrey Hayes, 71653 Jonathan Skyway, East Rebeccaberg, CO 18343, ksanders@example.org, (315)419-7733, 74, 0, audrey haye71653 jonathan skyway, eat rebeccaberg, co 18343kander@example.org(315)419-7733, [audrey, haye71653, jonathan, skyway,, eat, rebeccaberg,, co, 18343kander@example.org(315)419-7733], audrey haye71653 jonathan skyway, eat rebeccaberg, co 18343kander@example.org(315)419-7733, [a, u, d, r, e, y,  , h, a, y, e, 7, 1, 6, 5, 3,  , j, o, n, a, t, h, a, n,  , s, k, y, w, a, y, ,,  , e, a, t,  , r, e, b, e, c, c, a, b, e, r, g, ,,  , c, o,  , 1, 8, 3, 4, 3, k, a, n, d, e, r, @, e, x, a, m, p, l, e, ., o, r, g, (, 3, 1, 5, ), 4, 1, 9, -, 7, 7, 3, 3], [a u, u d, d r, r e, e y, y  ,   h, h a, a y, y e, e 7, 7 1, 1 6, 6 5, 5 3, 3  ,   j, j o, o n, n a, a t, t h, h a, a n, n  ,   s, s k, k y, y w, w a, a y, y ,, ,  ,   e, e a, a t, t  ,   r, r e, e b, b e, e c, c c, c a, a b, b e, e r, r g, g ,, ,  ,   c, c o, o  ,   1, 1 8, 8 3, 3 4, 4 3, 3 k, k a, a n, n d, d e, e r, r @, @ e, e x, x a, a m, m p, p l, l e, e ., . o, o r, r g, g (, ( 3, 3 1, 1 5, 5 ), ) 4, 4 1, 1 9, 9 -, - 7, 7 7, 7 3, 3 3], (262144,[356,922,4716,5118,6924,10092,18454,29519,40652,41751,44739,47847,54492,60060,63039,69528,73081,77604,77683,79730,81102,83763,85282,86151,88967,89945,92610,94639,96059,98169,101500,104445,104526,109014,113287,113774,120387,121137,129160,129949,131113,134655,135408,145135,150902,156292,163642,173657,176284,179073,184957,187032,188893,199257,201406,201913,202499,207470,208287,214135,214617,216599,217451,220331,222482,223096,223102,227529,229660,231216,231222,231987,233157,235629,244179,245964,252749,259168,259429,259701],[1.0,1.0,1.0,1.0,1.0,1.0,1.0,1.0,2.0,1.0,1.0,1.0,1.0,1.0,1.0,1.0,1.0,1.0,1.0,1.0,1.0,1.0,1.0,2.0,1.0,1.0,1.0,1.0,1.0,1.0,2.0,1.0,1.0,1.0,1.0,1.0,2.0,1.0,1.0,1.0,1.0,1.0,1.0,1.0,1.0,1.0,1.0,1.0,1.0,1.0,1.0,1.0,2.0,1.0,1.0,2.0,1.0,1.0,1.0,1.0,1.0,1.0,1.0,1.0,1.0,1.0,1.0,2.0,1.0,1.0,1.0,2.0,1.0,1.0,1.0,1.0,2.0,1.0,1.0,1.0]), [[4547468.0], [1.1499927E7], [3.3461259E7]]}                                                                                                                                                                                                                                                                                                                                                                                                                                                                                                                                             |{10320, Audrey Hayes, 71653 Jonathan Skyway, East Rebeccaberg, CO 18343, ksanders@example.org, (315)419-7733, 74, 0, audrey haye71653 jonathan skyway, eat rebeccaberg, co 18343kander@example.org(315)419-7733, [audrey, haye71653, jonathan, skyway,, eat, rebeccaberg,, co, 18343kander@example.org(315)419-7733], audrey haye71653 jonathan skyway, eat rebeccaberg, co 18343kander@example.org(315)419-7733, [a, u, d, r, e, y,  , h, a, y, e, 7, 1, 6, 5, 3,  , j, o, n, a, t, h, a, n,  , s, k, y, w, a, y, ,,  , e, a, t,  , r, e, b, e, c, c, a, b, e, r, g, ,,  , c, o,  , 1, 8, 3, 4, 3, k, a, n, d, e, r, @, e, x, a, m, p, l, e, ., o, r, g, (, 3, 1, 5, ), 4, 1, 9, -, 7, 7, 3, 3], [a u, u d, d r, r e, e y, y  ,   h, h a, a y, y e, e 7, 7 1, 1 6, 6 5, 5 3, 3  ,   j, j o, o n, n a, a t, t h, h a, a n, n  ,   s, s k, k y, y w, w a, a y, y ,, ,  ,   e, e a, a t, t  ,   r, r e, e b, b e, e c, c c, c a, a b, b e, e r, r g, g ,, ,  ,   c, c o, o  ,   1, 1 8, 8 3, 3 4, 4 3, 3 k, k a, a n, n d, d e, e r, r @, @ e, e x, x a, a m, m p, p l, l e, e ., . o, o r, r g, g (, ( 3, 3 1, 1 5, 5 ), ) 4, 4 1, 1 9, 9 -, - 7, 7 7, 7 3, 3 3], (262144,[356,922,4716,5118,6924,10092,18454,29519,40652,41751,44739,47847,54492,60060,63039,69528,73081,77604,77683,79730,81102,83763,85282,86151,88967,89945,92610,94639,96059,98169,101500,104445,104526,109014,113287,113774,120387,121137,129160,129949,131113,134655,135408,145135,150902,156292,163642,173657,176284,179073,184957,187032,188893,199257,201406,201913,202499,207470,208287,214135,214617,216599,217451,220331,222482,223096,223102,227529,229660,231216,231222,231987,233157,235629,244179,245964,252749,259168,259429,259701],[1.0,1.0,1.0,1.0,1.0,1.0,1.0,1.0,2.0,1.0,1.0,1.0,1.0,1.0,1.0,1.0,1.0,1.0,1.0,1.0,1.0,1.0,1.0,2.0,1.0,1.0,1.0,1.0,1.0,1.0,2.0,1.0,1.0,1.0,1.0,1.0,2.0,1.0,1.0,1.0,1.0,1.0,1.0,1.0,1.0,1.0,1.0,1.0,1.0,1.0,1.0,1.0,2.0,1.0,1.0,2.0,1.0,1.0,1.0,1.0,1.0,1.0,1.0,1.0,1.0,1.0,1.0,2.0,1.0,1.0,1.0,2.0,1.0,1.0,1.0,1.0,2.0,1.0,1.0,1.0]), [[4547468.0], [1.1499927E7], [3.3461259E7]]}                                                                                                                                                                                                                                                                                                                                                                                                                                                                                                                                          |0.0                 |\n",
      "|{10368, Barbara Hodge, USS Gray, FPO AE 40804, vhouse@example.net, +1-758-482-1588x385, 90, 0, barbara hodgeuss gray, fpo ae 40804vhoue@example.net+1-758-482-1588x385, [barbara, hodgeuss, gray,, fpo, ae, 40804vhoue@example.net+1-758-482-1588x385], barbara hodgeuss gray, fpo ae 40804vhoue@example.net+1-758-482-1588x385, [b, a, r, b, a, r, a,  , h, o, d, g, e, u, s, s,  , g, r, a, y, ,,  , f, p, o,  , a, e,  , 4, 0, 8, 0, 4, v, h, o, u, e, @, e, x, a, m, p, l, e, ., n, e, t, +, 1, -, 7, 5, 8, -, 4, 8, 2, -, 1, 5, 8, 8, x, 3, 8, 5], [b a, a r, r b, b a, a r, r a, a  ,   h, h o, o d, d g, g e, e u, u s, s s, s  ,   g, g r, r a, a y, y ,, ,  ,   f, f p, p o, o  ,   a, a e, e  ,   4, 4 0, 0 8, 8 0, 0 4, 4 v, v h, h o, o u, u e, e @, @ e, e x, x a, a m, m p, p l, l e, e ., . n, n e, e t, t +, + 1, 1 -, - 7, 7 5, 5 8, 8 -, - 4, 4 8, 8 2, 2 -, - 1, 1 5, 5 8, 8 8, 8 x, x 3, 3 8, 8 5], (262144,[356,6202,10092,10761,16886,18671,21092,21968,22501,27199,44739,51729,55316,60569,71411,71444,72596,73272,75555,77215,81102,82441,85434,88967,96059,96906,101718,104526,109777,113030,113312,113774,114358,122052,128502,134260,139154,145230,147960,152282,155093,160987,168923,180282,183964,186096,187032,190188,192188,193906,199161,199257,202499,208287,214604,222110,223076,223096,224249,231987,235263,237046,249502,252749,257059],[1.0,1.0,1.0,1.0,1.0,2.0,2.0,1.0,1.0,1.0,1.0,1.0,1.0,1.0,1.0,1.0,1.0,1.0,2.0,1.0,1.0,1.0,1.0,1.0,1.0,1.0,1.0,1.0,2.0,1.0,1.0,1.0,1.0,1.0,1.0,1.0,1.0,1.0,1.0,1.0,1.0,1.0,1.0,1.0,1.0,1.0,1.0,1.0,1.0,1.0,2.0,1.0,1.0,1.0,1.0,1.0,1.0,1.0,1.0,1.0,1.0,1.0,1.0,1.0,1.0]), [[4547468.0], [4.6893033E7], [3.8837262E7]]}                                                                                                                                                                                                                                                                                                                                                                                                                                                                                                                                                                                                                                                                                                                                                                                                                                                                                                                                                |{90, Barbara Hodge, USS Gray, FPO AE 40804, vhouse@example.net, +1-758-482-1588x385, 90, 0, barbara hodgeuss gray, fpo ae 40804vhoue@example.net+1-758-482-1588x385, [barbara, hodgeuss, gray,, fpo, ae, 40804vhoue@example.net+1-758-482-1588x385], barbara hodgeuss gray, fpo ae 40804vhoue@example.net+1-758-482-1588x385, [b, a, r, b, a, r, a,  , h, o, d, g, e, u, s, s,  , g, r, a, y, ,,  , f, p, o,  , a, e,  , 4, 0, 8, 0, 4, v, h, o, u, e, @, e, x, a, m, p, l, e, ., n, e, t, +, 1, -, 7, 5, 8, -, 4, 8, 2, -, 1, 5, 8, 8, x, 3, 8, 5], [b a, a r, r b, b a, a r, r a, a  ,   h, h o, o d, d g, g e, e u, u s, s s, s  ,   g, g r, r a, a y, y ,, ,  ,   f, f p, p o, o  ,   a, a e, e  ,   4, 4 0, 0 8, 8 0, 0 4, 4 v, v h, h o, o u, u e, e @, @ e, e x, x a, a m, m p, p l, l e, e ., . n, n e, e t, t +, + 1, 1 -, - 7, 7 5, 5 8, 8 -, - 4, 4 8, 8 2, 2 -, - 1, 1 5, 5 8, 8 8, 8 x, x 3, 3 8, 8 5], (262144,[356,6202,10092,10761,16886,18671,21092,21968,22501,27199,44739,51729,55316,60569,71411,71444,72596,73272,75555,77215,81102,82441,85434,88967,96059,96906,101718,104526,109777,113030,113312,113774,114358,122052,128502,134260,139154,145230,147960,152282,155093,160987,168923,180282,183964,186096,187032,190188,192188,193906,199161,199257,202499,208287,214604,222110,223076,223096,224249,231987,235263,237046,249502,252749,257059],[1.0,1.0,1.0,1.0,1.0,2.0,2.0,1.0,1.0,1.0,1.0,1.0,1.0,1.0,1.0,1.0,1.0,1.0,2.0,1.0,1.0,1.0,1.0,1.0,1.0,1.0,1.0,1.0,2.0,1.0,1.0,1.0,1.0,1.0,1.0,1.0,1.0,1.0,1.0,1.0,1.0,1.0,1.0,1.0,1.0,1.0,1.0,1.0,1.0,1.0,2.0,1.0,1.0,1.0,1.0,1.0,1.0,1.0,1.0,1.0,1.0,1.0,1.0,1.0,1.0]), [[4547468.0], [4.6893033E7], [3.8837262E7]]}                                                                                                                                                                                                                                                                                                                                                                                                                                                                                                                                                                                                                                                                                                                                                                                                                                                                                                                                                   |0.0                 |\n",
      "|{10356, Joanne F. Fisher, 7131 Jacob Gateway, Brandonfort, MT 42419, alicepineda@example.org, +1-755-439-2466x5192, 86, 1, joanne f. fiher7131 jacob gateway, brandonfort, mt 42419alicepineda@example.org+1-755-439-2466x5192, [joanne, f., fiher7131, jacob, gateway,, brandonfort,, mt, 42419alicepineda@example.org+1-755-439-2466x5192], joanne f. fiher7131 jacob gateway, brandonfort, mt 42419alicepineda@example.org+1-755-439-2466x5192, [j, o, a, n, n, e,  , f, .,  , f, i, h, e, r, 7, 1, 3, 1,  , j, a, c, o, b,  , g, a, t, e, w, a, y, ,,  , b, r, a, n, d, o, n, f, o, r, t, ,,  , m, t,  , 4, 2, 4, 1, 9, a, l, i, c, e, p, i, n, e, d, a, @, e, x, a, m, p, l, e, ., o, r, g, +, 1, -, 7, 5, 5, -, 4, 3, 9, -, 2, 4, 6, 6, x, 5, 1, 9, 2], [j o, o a, a n, n n, n e, e  ,   f, f ., .  ,   f, f i, i h, h e, e r, r 7, 7 1, 1 3, 3 1, 1  ,   j, j a, a c, c o, o b, b  ,   g, g a, a t, t e, e w, w a, a y, y ,, ,  ,   b, b r, r a, a n, n d, d o, o n, n f, f o, o r, r t, t ,, ,  ,   m, m t, t  ,   4, 4 2, 2 4, 4 1, 1 9, 9 a, a l, l i, i c, c e, e p, p i, i n, n e, e d, d a, a @, @ e, e x, x a, a m, m p, p l, l e, e ., . o, o r, r g, g +, + 1, 1 -, - 7, 7 5, 5 5, 5 -, - 4, 4 3, 3 9, 9 -, - 2, 2 4, 4 6, 6 6, 6 x, x 5, 5 1, 1 9, 9 2], (262144,[356,4126,9918,18430,19174,21092,21717,21968,23165,24638,27478,31883,38888,40652,44739,48728,50589,51995,54492,55478,61924,62083,67287,73081,73272,77086,81157,82441,85282,85644,86151,89945,92181,94900,96059,96906,101459,101500,104526,107805,113287,113774,120387,121109,122052,123609,123967,127525,127743,135408,142542,145090,145135,145230,153517,153952,172693,173657,175015,178161,179073,179437,184957,185272,187032,197405,199257,202499,204928,207470,208287,217451,220331,221473,223096,224249,228106,231216,231987,232060,237828,240862,244594,245964,247155,249502,249634,252749,254087,257059,259257],[1.0,1.0,1.0,1.0,1.0,1.0,1.0,1.0,1.0,1.0,1.0,1.0,1.0,1.0,1.0,1.0,1.0,1.0,1.0,1.0,1.0,2.0,1.0,1.0,2.0,1.0,1.0,1.0,1.0,1.0,2.0,1.0,1.0,1.0,1.0,1.0,1.0,1.0,1.0,1.0,1.0,1.0,1.0,1.0,1.0,1.0,1.0,1.0,1.0,2.0,1.0,1.0,1.0,1.0,1.0,1.0,1.0,1.0,1.0,1.0,1.0,1.0,1.0,1.0,1.0,1.0,1.0,1.0,1.0,1.0,1.0,1.0,1.0,1.0,1.0,1.0,1.0,2.0,1.0,1.0,1.0,1.0,1.0,1.0,1.0,1.0,1.0,2.0,1.0,2.0,1.0]), [[4547468.0], [4.7974314E7], [2.1023652E7]]}                                                                                                                                                                                                                                                                                                           |{86, Joanne Fisher, 7131 Jacob Gateway, Brandonfort, MT 42419, alicepineda@example.org, +1-755-439-2466x5192, 86, 0, joanne fiher7131 jacob gateway, brandonfort, mt 42419alicepineda@example.org+1-755-439-2466x5192, [joanne, fiher7131, jacob, gateway,, brandonfort,, mt, 42419alicepineda@example.org+1-755-439-2466x5192], joanne fiher7131 jacob gateway, brandonfort, mt 42419alicepineda@example.org+1-755-439-2466x5192, [j, o, a, n, n, e,  , f, i, h, e, r, 7, 1, 3, 1,  , j, a, c, o, b,  , g, a, t, e, w, a, y, ,,  , b, r, a, n, d, o, n, f, o, r, t, ,,  , m, t,  , 4, 2, 4, 1, 9, a, l, i, c, e, p, i, n, e, d, a, @, e, x, a, m, p, l, e, ., o, r, g, +, 1, -, 7, 5, 5, -, 4, 3, 9, -, 2, 4, 6, 6, x, 5, 1, 9, 2], [j o, o a, a n, n n, n e, e  ,   f, f i, i h, h e, e r, r 7, 7 1, 1 3, 3 1, 1  ,   j, j a, a c, c o, o b, b  ,   g, g a, a t, t e, e w, w a, a y, y ,, ,  ,   b, b r, r a, a n, n d, d o, o n, n f, f o, o r, r t, t ,, ,  ,   m, m t, t  ,   4, 4 2, 2 4, 4 1, 1 9, 9 a, a l, l i, i c, c e, e p, p i, i n, n e, e d, d a, a @, @ e, e x, x a, a m, m p, p l, l e, e ., . o, o r, r g, g +, + 1, 1 -, - 7, 7 5, 5 5, 5 -, - 4, 4 3, 3 9, 9 -, - 2, 2 4, 4 6, 6 6, 6 x, x 5, 5 1, 1 9, 9 2], (262144,[356,4126,9918,18430,19174,21092,21717,21968,23165,24638,27478,31883,38888,40652,44739,48728,50589,51995,54492,55478,61924,62083,67287,73081,73272,77086,81157,82441,85282,85644,86151,89945,92181,94900,96059,96906,101459,101500,104526,107805,113287,113774,120387,121109,122052,123609,123967,127525,135408,142542,145090,145135,145230,153517,153952,172693,173657,175015,178161,179073,179437,184957,185272,187032,197405,199257,202499,204928,207470,208287,217451,220331,221473,223096,224249,228106,231216,231987,232060,237828,244594,245964,247155,249502,249634,252749,254087,257059,259257],[1.0,1.0,1.0,1.0,1.0,1.0,1.0,1.0,1.0,1.0,1.0,1.0,1.0,1.0,1.0,1.0,1.0,1.0,1.0,1.0,1.0,2.0,1.0,1.0,2.0,1.0,1.0,1.0,1.0,1.0,2.0,1.0,1.0,1.0,1.0,1.0,1.0,1.0,1.0,1.0,1.0,1.0,1.0,1.0,1.0,1.0,1.0,1.0,2.0,1.0,1.0,1.0,1.0,1.0,1.0,1.0,1.0,1.0,1.0,1.0,1.0,1.0,1.0,1.0,1.0,1.0,1.0,1.0,1.0,1.0,1.0,1.0,1.0,1.0,1.0,1.0,2.0,1.0,1.0,1.0,1.0,1.0,1.0,1.0,1.0,2.0,1.0,1.0,1.0]), [[4547468.0], [4.7974314E7], [2.1023652E7]]}                                                                                                                                                                                                                                                                                                                                                                         |0.02197802197802201 |\n",
      "|{10257, David Frank, 6617 Gallagher Lodge Apt. 514, Stewartbury, IA 44163, kellylynch@example.org, 001-727-251-7170x908, 53, 0, david frank6617 gallagher lodge apt. 514, stewartbury, ia 44163kellylynch@example.org001-727-251-7170x908, [david, frank6617, gallagher, lodge, apt., 514,, stewartbury,, ia, 44163kellylynch@example.org001-727-251-7170x908], david frank6617 gallagher lodge apt. 514, stewartbury, ia 44163kellylynch@example.org001-727-251-7170x908, [d, a, v, i, d,  , f, r, a, n, k, 6, 6, 1, 7,  , g, a, l, l, a, g, h, e, r,  , l, o, d, g, e,  , a, p, t, .,  , 5, 1, 4, ,,  , s, t, e, w, a, r, t, b, u, r, y, ,,  , i, a,  , 4, 4, 1, 6, 3, k, e, l, l, y, l, y, n, c, h, @, e, x, a, m, p, l, e, ., o, r, g, 0, 0, 1, -, 7, 2, 7, -, 2, 5, 1, -, 7, 1, 7, 0, x, 9, 0, 8], [d a, a v, v i, i d, d  ,   f, f r, r a, a n, n k, k 6, 6 6, 6 1, 1 7, 7  ,   g, g a, a l, l l, l a, a g, g h, h e, e r, r  ,   l, l o, o d, d g, g e, e  ,   a, a p, p t, t ., .  ,   5, 5 1, 1 4, 4 ,, ,  ,   s, s t, t e, e w, w a, a r, r t, t b, b u, u r, r y, y ,, ,  ,   i, i a, a  ,   4, 4 4, 4 1, 1 6, 6 3, 3 k, k e, e l, l l, l y, y l, l y, y n, n c, c h, h @, @ e, e x, x a, a m, m p, p l, l e, e ., . o, o r, r g, g 0, 0 0, 0 1, 1 -, - 7, 7 2, 2 7, 7 -, - 2, 2 5, 5 1, 1 -, - 7, 7 1, 1 7, 7 0, 0 x, x 9, 9 0, 0 8], (262144,[356,6202,9918,10186,10761,11598,12512,17936,21092,21717,21968,24638,40652,40885,43700,44739,46841,47847,51995,55316,58370,59534,61924,66745,67287,70572,72039,75555,77215,78148,78381,85813,86151,89945,91921,92610,93843,96059,96906,101718,104526,108489,113774,118706,120387,121137,122052,132761,135408,137517,144100,145135,145703,150725,152282,153952,157556,158097,162666,164918,172418,172999,179073,179437,183377,185272,186212,187032,189070,199257,200331,200433,202499,202949,204000,207470,208221,208287,208873,209354,216914,217077,223096,223411,229167,231553,231895,232897,237828,240862,242264,242940,249502,251209,252749,257059,258620],[1.0,1.0,1.0,1.0,1.0,1.0,1.0,1.0,1.0,1.0,1.0,1.0,1.0,1.0,1.0,1.0,1.0,1.0,1.0,1.0,1.0,1.0,1.0,1.0,1.0,1.0,1.0,1.0,1.0,1.0,1.0,1.0,1.0,1.0,1.0,1.0,1.0,1.0,1.0,1.0,1.0,1.0,1.0,1.0,1.0,1.0,2.0,1.0,1.0,1.0,1.0,1.0,1.0,1.0,1.0,1.0,1.0,1.0,1.0,1.0,1.0,1.0,1.0,1.0,1.0,2.0,1.0,1.0,1.0,1.0,1.0,1.0,2.0,1.0,1.0,1.0,1.0,1.0,2.0,1.0,1.0,1.0,1.0,1.0,1.0,2.0,1.0,1.0,1.0,1.0,1.0,1.0,1.0,1.0,2.0,1.0,2.0]), [[4547468.0], [3.1719469E7], [3.8343168E7]]}                                                                                                                                                                    |{10258, DAVID FRANK, 6617 Gallagher Lodge Apt. 514, Stewartbury, IA 44163, kellylynch@example.org, 001-727-251-7170x908, 53, 1, david frank6617 gallagher lodge apt. 514, stewartbury, ia 44163kellylynch@example.org001-727-251-7170x908, [david, frank6617, gallagher, lodge, apt., 514,, stewartbury,, ia, 44163kellylynch@example.org001-727-251-7170x908], david frank6617 gallagher lodge apt. 514, stewartbury, ia 44163kellylynch@example.org001-727-251-7170x908, [d, a, v, i, d,  , f, r, a, n, k, 6, 6, 1, 7,  , g, a, l, l, a, g, h, e, r,  , l, o, d, g, e,  , a, p, t, .,  , 5, 1, 4, ,,  , s, t, e, w, a, r, t, b, u, r, y, ,,  , i, a,  , 4, 4, 1, 6, 3, k, e, l, l, y, l, y, n, c, h, @, e, x, a, m, p, l, e, ., o, r, g, 0, 0, 1, -, 7, 2, 7, -, 2, 5, 1, -, 7, 1, 7, 0, x, 9, 0, 8], [d a, a v, v i, i d, d  ,   f, f r, r a, a n, n k, k 6, 6 6, 6 1, 1 7, 7  ,   g, g a, a l, l l, l a, a g, g h, h e, e r, r  ,   l, l o, o d, d g, g e, e  ,   a, a p, p t, t ., .  ,   5, 5 1, 1 4, 4 ,, ,  ,   s, s t, t e, e w, w a, a r, r t, t b, b u, u r, r y, y ,, ,  ,   i, i a, a  ,   4, 4 4, 4 1, 1 6, 6 3, 3 k, k e, e l, l l, l y, y l, l y, y n, n c, c h, h @, @ e, e x, x a, a m, m p, p l, l e, e ., . o, o r, r g, g 0, 0 0, 0 1, 1 -, - 7, 7 2, 2 7, 7 -, - 2, 2 5, 5 1, 1 -, - 7, 7 1, 1 7, 7 0, 0 x, x 9, 9 0, 0 8], (262144,[356,6202,9918,10186,10761,11598,12512,17936,21092,21717,21968,24638,40652,40885,43700,44739,46841,47847,51995,55316,58370,59534,61924,66745,67287,70572,72039,75555,77215,78148,78381,85813,86151,89945,91921,92610,93843,96059,96906,101718,104526,108489,113774,118706,120387,121137,122052,132761,135408,137517,144100,145135,145703,150725,152282,153952,157556,158097,162666,164918,172418,172999,179073,179437,183377,185272,186212,187032,189070,199257,200331,200433,202499,202949,204000,207470,208221,208287,208873,209354,216914,217077,223096,223411,229167,231553,231895,232897,237828,240862,242264,242940,249502,251209,252749,257059,258620],[1.0,1.0,1.0,1.0,1.0,1.0,1.0,1.0,1.0,1.0,1.0,1.0,1.0,1.0,1.0,1.0,1.0,1.0,1.0,1.0,1.0,1.0,1.0,1.0,1.0,1.0,1.0,1.0,1.0,1.0,1.0,1.0,1.0,1.0,1.0,1.0,1.0,1.0,1.0,1.0,1.0,1.0,1.0,1.0,1.0,1.0,2.0,1.0,1.0,1.0,1.0,1.0,1.0,1.0,1.0,1.0,1.0,1.0,1.0,1.0,1.0,1.0,1.0,1.0,1.0,2.0,1.0,1.0,1.0,1.0,1.0,1.0,2.0,1.0,1.0,1.0,1.0,1.0,2.0,1.0,1.0,1.0,1.0,1.0,1.0,2.0,1.0,1.0,1.0,1.0,1.0,1.0,1.0,1.0,2.0,1.0,2.0]), [[4547468.0], [3.1719469E7], [3.8343168E7]]}                                                                                                                                                                    |0.0                 |\n",
      "+------------------------------------------------------------------------------------------------------------------------------------------------------------------------------------------------------------------------------------------------------------------------------------------------------------------------------------------------------------------------------------------------------------------------------------------------------------------------------------------------------------------------------------------------------------------------------------------------------------------------------------------------------------------------------------------------------------------------------------------------------------------------------------------------------------------------------------------------------------------------------------------------------------------------------------------------------------------------------------------------------------------------------------------------------------------------------------------------------------------------------------------------------------------------------------------------------------------------------------------------------------------------------------------------------------------------------------------------------------------------------------------------------------------------------------------------------------------------------------------------------------------------------------------------------------------------------------------------------------------------------------------------------------------------------------------------------------------------------------------------------------------------------------------------------------------------------------------------------------------------------------------------------------------------------------------------------------------------------------------------------------------------------------------------------------------------------------------------------------------------------------------------------------------------------------------------------------------------------------------------------------------------------------------------------------------------------------------------------------------------------------------------------------------------------------------------------------------------------------------------------------------------------------------------------------------------------------------------------------------------------------------------+------------------------------------------------------------------------------------------------------------------------------------------------------------------------------------------------------------------------------------------------------------------------------------------------------------------------------------------------------------------------------------------------------------------------------------------------------------------------------------------------------------------------------------------------------------------------------------------------------------------------------------------------------------------------------------------------------------------------------------------------------------------------------------------------------------------------------------------------------------------------------------------------------------------------------------------------------------------------------------------------------------------------------------------------------------------------------------------------------------------------------------------------------------------------------------------------------------------------------------------------------------------------------------------------------------------------------------------------------------------------------------------------------------------------------------------------------------------------------------------------------------------------------------------------------------------------------------------------------------------------------------------------------------------------------------------------------------------------------------------------------------------------------------------------------------------------------------------------------------------------------------------------------------------------------------------------------------------------------------------------------------------------------------------------------------------------------------------------------------------------------------------------------------------------------------------------------------------------------------------------------------------------------------------------------------------------------------------------------------------------------------------------------------------------------------------------------------------------------------------------------------------------------------------------------------------------------------------------------------------------------------------------+--------------------+\n"
     ]
    },
    {
     "name": "stderr",
     "output_type": "stream",
     "text": [
      "                                                                                \r"
     ]
    }
   ],
   "source": [
    "similarity_df.show(20,truncate=False)"
   ],
   "metadata": {
    "collapsed": false,
    "ExecuteTime": {
     "end_time": "2023-08-06T01:36:06.890279700Z",
     "start_time": "2023-08-06T01:35:24.307083100Z"
    }
   },
   "id": "7393a62ca050c79d"
  },
  {
   "cell_type": "markdown",
   "source": [
    "Now try with kmeans"
   ],
   "metadata": {
    "collapsed": false
   },
   "id": "35f9af3789a0be24"
  },
  {
   "cell_type": "code",
   "execution_count": 8,
   "outputs": [
    {
     "name": "stderr",
     "output_type": "stream",
     "text": [
      "23/08/06 01:36:06 WARN DAGScheduler: Broadcasting large task binary with size 14.2 MiB\n",
      "23/08/06 01:36:09 WARN DAGScheduler: Broadcasting large task binary with size 14.2 MiB\n",
      "23/08/06 01:36:11 WARN DAGScheduler: Broadcasting large task binary with size 14.2 MiB\n",
      "23/08/06 01:36:15 WARN DAGScheduler: Broadcasting large task binary with size 14.2 MiB\n",
      "23/08/06 01:36:18 WARN DAGScheduler: Broadcasting large task binary with size 14.2 MiB\n",
      "23/08/06 01:36:21 WARN DAGScheduler: Broadcasting large task binary with size 14.2 MiB\n",
      "23/08/06 01:36:23 WARN DAGScheduler: Broadcasting large task binary with size 14.2 MiB\n",
      "23/08/06 01:36:26 WARN DAGScheduler: Broadcasting large task binary with size 14.2 MiB\n",
      "23/08/06 01:36:29 WARN DAGScheduler: Broadcasting large task binary with size 14.2 MiB\n",
      "23/08/06 01:36:31 WARN InstanceBuilder: Failed to load implementation from:dev.ludovic.netlib.blas.JNIBLAS\n",
      "23/08/06 01:36:31 WARN InstanceBuilder: Failed to load implementation from:dev.ludovic.netlib.blas.VectorBLAS\n",
      "23/08/06 01:36:36 WARN DAGScheduler: Broadcasting large task binary with size 14.2 MiB\n",
      "23/08/06 01:36:46 WARN DAGScheduler: Broadcasting large task binary with size 14.2 MiB\n",
      "23/08/06 01:36:52 WARN DAGScheduler: Broadcasting large task binary with size 22.2 MiB\n",
      "23/08/06 01:36:57 WARN DAGScheduler: Broadcasting large task binary with size 22.2 MiB\n",
      "                                                                                \r"
     ]
    }
   ],
   "source": [
    "feat        =    VectorAssembler(inputCols=[\"vector\"], outputCol=\"features\")\n",
    "kmeans      =    KMeans(k = 4, seed = 1, predictionCol=\"kmeans\")\n",
    "\n",
    "stages = [transform0,token0,transform1,token1,ngram,hash,feat,kmeans]\n",
    "#pre-processing\n",
    "pipeline = Pipeline(stages=stages)\n",
    "model = pipeline.fit(df_spark)\n",
    "model_df = model.transform(df_spark)\n",
    "\n",
    "\n",
    "#knn then jaccard distance\n",
    "lsh_model = MinHashLSH(inputCol=\"vector\", outputCol=\"lsh\", numHashTables=3).fit(model_df)\n",
    "similarity_df = lsh_model.approxSimilarityJoin(model_df, model_df, distance_threshold, distCol=\"text_distance\").filter(\"datasetA.client_id != datasetB.client_id\")\n",
    "\n",
    "\n",
    "\n",
    "from pyspark.sql.window import Window\n",
    "from pyspark.sql.functions import col, concat_ws, split, array_sort, min\n",
    "\n",
    "#graphx\n",
    "edges = (similarity_df.selectExpr(\"datasetA.client_id as src\",\"datasetB.client_id as dst\")\n",
    "         .withColumn('set_col', concat_ws(',', col('src'), col('dst')))\n",
    "         .withColumn('sorted_set', array_sort(split(col('set_col'), ',')))\n",
    "         .dropDuplicates(['sorted_set']).select(col(\"src\"), col(\"dst\")))\n",
    "\n",
    "vertices = (similarity_df.selectExpr(\"datasetA.client_id as id\").union(similarity_df.selectExpr(\"datasetB.client_id as id\"))).distinct()\n",
    "\n",
    "\n",
    "#connections graph\n",
    "graph_frame = GraphFrame(vertices, edges)\n",
    "\n",
    "#slow\n",
    "components_df = graph_frame.connectedComponents().withColumn(\"min_id\", min(col(\"id\")).over(Window.partitionBy(\"component\")))"
   ],
   "metadata": {
    "collapsed": false,
    "ExecuteTime": {
     "end_time": "2023-08-06T01:38:00.076659800Z",
     "start_time": "2023-08-06T01:36:06.905615600Z"
    }
   },
   "id": "f36d3ae514238362"
  },
  {
   "cell_type": "code",
   "execution_count": 9,
   "outputs": [
    {
     "name": "stderr",
     "output_type": "stream",
     "text": [
      "23/08/06 01:38:10 WARN DAGScheduler: Broadcasting large task binary with size 22.3 MiB\n",
      "23/08/06 01:38:12 WARN DAGScheduler: Broadcasting large task binary with size 22.3 MiB\n",
      "23/08/06 01:38:17 WARN DAGScheduler: Broadcasting large task binary with size 22.4 MiB\n",
      "23/08/06 01:39:03 WARN DAGScheduler: Broadcasting large task binary with size 22.3 MiB\n",
      "23/08/06 01:39:06 WARN DAGScheduler: Broadcasting large task binary with size 22.3 MiB\n",
      "23/08/06 01:39:08 WARN DAGScheduler: Broadcasting large task binary with size 22.3 MiB\n",
      "                                                                                \r"
     ]
    },
    {
     "name": "stdout",
     "output_type": "stream",
     "text": [
      "+-----+---------+------+\n",
      "|id   |component|min_id|\n",
      "+-----+---------+------+\n",
      "|10014|1        |1     |\n",
      "|10028|1        |1     |\n",
      "|10019|1        |1     |\n",
      "|10091|1        |1     |\n",
      "|10037|1        |1     |\n",
      "|10072|1        |1     |\n",
      "|10059|1        |1     |\n",
      "|10103|1        |1     |\n",
      "|10055|1        |1     |\n",
      "|10061|1        |1     |\n",
      "|10030|1        |1     |\n",
      "|10081|1        |1     |\n",
      "|10020|1        |1     |\n",
      "|10095|1        |1     |\n",
      "|10060|1        |1     |\n",
      "|10023|1        |1     |\n",
      "|10051|1        |1     |\n",
      "|10033|1        |1     |\n",
      "|10011|1        |1     |\n",
      "|10049|1        |1     |\n",
      "+-----+---------+------+\n"
     ]
    },
    {
     "name": "stderr",
     "output_type": "stream",
     "text": [
      "23/08/06 01:39:09 WARN DAGScheduler: Broadcasting large task binary with size 22.3 MiB\n",
      "23/08/06 01:39:11 WARN DAGScheduler: Broadcasting large task binary with size 22.3 MiB\n",
      "23/08/06 01:39:16 WARN DAGScheduler: Broadcasting large task binary with size 22.4 MiB\n",
      "23/08/06 01:40:01 WARN DAGScheduler: Broadcasting large task binary with size 22.3 MiB\n",
      "23/08/06 01:40:03 WARN DAGScheduler: Broadcasting large task binary with size 22.3 MiB\n",
      "23/08/06 01:40:05 WARN DAGScheduler: Broadcasting large task binary with size 22.3 MiB\n",
      "23/08/06 01:40:07 WARN DAGScheduler: Broadcasting large task binary with size 22.3 MiB\n",
      "                                                                                \r"
     ]
    },
    {
     "data": {
      "text/plain": "99"
     },
     "execution_count": 9,
     "metadata": {},
     "output_type": "execute_result"
    }
   ],
   "source": [
    "components_df.show(20,truncate=False)\n",
    "\n",
    "#number of duplicate clusters\n",
    "components_df.select(\"min_id\").distinct().count()\n"
   ],
   "metadata": {
    "collapsed": false,
    "ExecuteTime": {
     "end_time": "2023-08-06T01:40:09.239092900Z",
     "start_time": "2023-08-06T01:38:11.602691Z"
    }
   },
   "id": "5f0957e43dc9ef61"
  },
  {
   "cell_type": "code",
   "execution_count": null,
   "outputs": [],
   "source": [],
   "metadata": {
    "collapsed": false
   },
   "id": "d4936207944d79d2"
  }
 ],
 "metadata": {
  "kernelspec": {
   "display_name": "Python 3",
   "language": "python",
   "name": "python3"
  },
  "language_info": {
   "codemirror_mode": {
    "name": "ipython",
    "version": 2
   },
   "file_extension": ".py",
   "mimetype": "text/x-python",
   "name": "python",
   "nbconvert_exporter": "python",
   "pygments_lexer": "ipython2",
   "version": "2.7.6"
  }
 },
 "nbformat": 4,
 "nbformat_minor": 5
}
